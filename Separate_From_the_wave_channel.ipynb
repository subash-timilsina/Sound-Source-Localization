{
 "cells": [
  {
   "cell_type": "code",
   "execution_count": null,
   "metadata": {},
   "outputs": [],
   "source": [
    "def save_wav_channel(fn, wav, channel):\n",
    "    \n",
    "    nch   = wav.getnchannels()\n",
    "    depth = wav.getsampwidth()\n",
    "    wav.setpos(0)\n",
    "    sdata = wav.readframes(wav.getnframes())\n",
    "\n",
    "    typ = { 1: np.uint8, 2: np.uint16, 4: np.uint32 }.get(depth)\n",
    "    if not typ:\n",
    "        raise ValueError(\"sample width {} not supported\".format(depth))\n",
    "    if channel >= nch:\n",
    "        raise ValueError(\"cannot extract channel {} out of {}\".format(channel+1, nch))\n",
    "    \n",
    "    print (\"Extracting channel {} out of {} channels, {}-bit depth\".format(channel+1, nch, depth*8))\n",
    "    \n",
    "    data = np.fromstring(sdata, dtype=typ)\n",
    "    ch_data = data[channel::nch]\n",
    "\n",
    "    outwav = wave.open(fn, 'w')\n",
    "    outwav.setparams(wav.getparams())\n",
    "    outwav.setnchannels(1)\n",
    "    outwav.writeframes(ch_data.tostring())\n",
    "    outwav.close()\n",
    "\n",
    "wav = wave.open(\"data.wav\")\n",
    "save_wav_channel('ch1.wav', wav, 0)\n",
    "save_wav_channel('ch2.wav', wav, 1)\n",
    "save_wav_channel('ch3.wav', wav, 2)\n",
    "save_wav_channel('ch4.wav', wav, 3)"
   ]
  }
 ],
 "metadata": {
  "kernelspec": {
   "display_name": "Python 3",
   "language": "python",
   "name": "python3"
  },
  "language_info": {
   "codemirror_mode": {
    "name": "ipython",
    "version": 3
   },
   "file_extension": ".py",
   "mimetype": "text/x-python",
   "name": "python",
   "nbconvert_exporter": "python",
   "pygments_lexer": "ipython3",
   "version": "3.7.3"
  }
 },
 "nbformat": 4,
 "nbformat_minor": 2
}
