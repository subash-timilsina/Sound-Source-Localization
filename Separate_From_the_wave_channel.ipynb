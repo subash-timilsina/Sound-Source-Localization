{
 "cells": [
  {
   "cell_type": "code",
   "execution_count": null,
   "metadata": {},
   "outputs": [],
   "source": [
    "def save_wav_channel(fn, wav, channel):\n",
    "    \n",
    "    nch   = wav.getnchannels()\n",
    "    depth = wav.getsampwidth()\n",
    "    wav.setpos(0)\n",
    "    sdata = wav.readframes(wav.getnframes())\n",
    "\n",
    "    typ = { 1: np.uint8, 2: np.uint16, 4: np.uint32 }.get(depth)\n",
    "    if not typ:\n",
    "        raise ValueError(\"sample width {} not supported\".format(depth))\n",
    "    if channel >= nch:\n",
    "        raise ValueError(\"cannot extract channel {} out of {}\".format(channel+1, nch))\n",
    "    \n",
    "    print (\"Extracting channel {} out of {} channels, {}-bit depth\".format(channel+1, nch, depth*8))\n",
    "    \n",
    "    data = np.fromstring(sdata, dtype=typ)\n",
    "    ch_data = data[channel::nch]\n",
    "\n",
    "    outwav = wave.open(fn, 'w')\n",
    "    outwav.setparams(wav.getparams())\n",
    "    outwav.setnchannels(1)\n",
    "    outwav.writeframes(ch_data.tostring())\n",
    "    outwav.close()\n",
    "\n",
    "wav = wave.open(\"data.wav\")\n",
    "save_wav_channel('ch1.wav', wav, 0)\n",
    "save_wav_channel('ch2.wav', wav, 1)\n",
    "save_wav_channel('ch3.wav', wav, 2)\n",
    "save_wav_channel('ch4.wav', wav, 3)"
   ]
  },
  {
   "cell_type": "code",
   "execution_count": 8,
   "metadata": {},
   "outputs": [],
   "source": [
    "import soundfile as sf\n",
    "import wave\n",
    "import numpy as np\n"
   ]
  },
  {
   "cell_type": "code",
   "execution_count": 19,
   "metadata": {},
   "outputs": [
    {
     "data": {
      "text/plain": [
       "array([ 0.01986694,  0.01992798,  0.02001953, ..., -0.00747681,\n",
       "       -0.00592041, -0.00515747])"
      ]
     },
     "execution_count": 19,
     "metadata": {},
     "output_type": "execute_result"
    }
   ],
   "source": [
    "x,_ = sf.read('8D.wav')\n",
    "x[:,1]"
   ]
  },
  {
   "cell_type": "code",
   "execution_count": 10,
   "metadata": {},
   "outputs": [],
   "source": [
    "wav = wave.open('8D.wav')"
   ]
  },
  {
   "cell_type": "code",
   "execution_count": 11,
   "metadata": {},
   "outputs": [],
   "source": [
    "sdata = wav.readframes(wav.getnframes())"
   ]
  },
  {
   "cell_type": "code",
   "execution_count": 12,
   "metadata": {},
   "outputs": [
    {
     "data": {
      "text/plain": [
       "(819200,)"
      ]
     },
     "execution_count": 12,
     "metadata": {},
     "output_type": "execute_result"
    }
   ],
   "source": [
    "data = np.frombuffer(sdata, dtype=np.int16)\n",
    "data.shape"
   ]
  },
  {
   "cell_type": "code",
   "execution_count": 15,
   "metadata": {},
   "outputs": [
    {
     "data": {
      "text/plain": [
       "(102400, 8)"
      ]
     },
     "execution_count": 15,
     "metadata": {},
     "output_type": "execute_result"
    }
   ],
   "source": [
    "new_x = np.zeros(x.shape)\n",
    "new_x.shape"
   ]
  },
  {
   "cell_type": "code",
   "execution_count": 16,
   "metadata": {},
   "outputs": [],
   "source": [
    "##Max value is 32768\n",
    "for i in range(8):\n",
    "    new_x[:,i] = data[i::8]/32768 "
   ]
  },
  {
   "cell_type": "code",
   "execution_count": 18,
   "metadata": {},
   "outputs": [
    {
     "data": {
      "text/plain": [
       "array([ 0.01986694,  0.01992798,  0.02001953, ..., -0.00747681,\n",
       "       -0.00592041, -0.00515747])"
      ]
     },
     "execution_count": 18,
     "metadata": {},
     "output_type": "execute_result"
    }
   ],
   "source": [
    "new_x[:,1]"
   ]
  },
  {
   "cell_type": "code",
   "execution_count": 21,
   "metadata": {},
   "outputs": [
    {
     "data": {
      "text/plain": [
       "2"
      ]
     },
     "execution_count": 21,
     "metadata": {},
     "output_type": "execute_result"
    }
   ],
   "source": [
    "new_x.ndim"
   ]
  },
  {
   "cell_type": "code",
   "execution_count": null,
   "metadata": {},
   "outputs": [],
   "source": []
  }
 ],
 "metadata": {
  "kernelspec": {
   "display_name": "Python 3",
   "language": "python",
   "name": "python3"
  },
  "language_info": {
   "codemirror_mode": {
    "name": "ipython",
    "version": 3
   },
   "file_extension": ".py",
   "mimetype": "text/x-python",
   "name": "python",
   "nbconvert_exporter": "python",
   "pygments_lexer": "ipython3",
   "version": "3.7.3"
  }
 },
 "nbformat": 4,
 "nbformat_minor": 2
}
