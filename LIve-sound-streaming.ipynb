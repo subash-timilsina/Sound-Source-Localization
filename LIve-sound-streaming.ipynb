{
 "cells": [
  {
   "cell_type": "code",
   "execution_count": 2,
   "metadata": {},
   "outputs": [
    {
     "name": "stdout",
     "output_type": "stream",
     "text": [
      "input device id 5 with channel 4 -- USB Camera-B4.09.24.1: Audio (hw:1,0)\n",
      "input device id 6 with channel 2 -- HDA Intel PCH: ALC3234 Analog (hw:2,0)\n",
      "input device id 7 with channel 4 -- USB Camera-B4.09.24.1: Audio (hw:3,0)\n"
     ]
    }
   ],
   "source": [
    "import pyaudio\n",
    "import matplotlib.pyplot as plt \n",
    "import numpy as np\n",
    "import wave\n",
    "\n",
    "maxValue = 2**16\n",
    "bars = 35\n",
    "p=pyaudio.PyAudio()\n",
    "\n",
    "numdevices = p.get_host_api_info_by_index(0).get('deviceCount')\n",
    "for i in range(0, numdevices):\n",
    "    if(p.get_device_info_by_host_api_device_index(0,i).get('maxInputChannels'))>0:\n",
    "        print(\"input device id {} with channel {} -- {}\".format(i,p.get_device_info_by_host_api_device_index(0,i).get('maxInputChannels'),p.get_device_info_by_host_api_device_index(0,i).get('name')));\n",
    "\n",
    "device_index = 1\n",
    "FORMAT = pyaudio.paInt16\n",
    "INPUT_CHANNELS = 4\n",
    "RATE = 44100\n",
    "CHUNKS = 1024"
   ]
  },
  {
   "cell_type": "code",
   "execution_count": null,
   "metadata": {},
   "outputs": [],
   "source": [
    "stream=p.open(input_device_index = device_index,format=FORMAT,channels=INPUT_CHANNELS,rate=RATE,\n",
    "              input=True, frames_per_buffer=CHUNKS)\n",
    "\n",
    "data1 = []\n",
    "data2 = []\n",
    "data3 = []\n",
    "data4 = []\n",
    "data = []\n",
    "\n",
    "i = 500\n",
    "while i>0:\n",
    "    whole_data  = stream.read(CHUNKS)  #np.fromstring(stream.read(1024),dtype=np.int16)\n",
    "    data.append(whole_data)\n",
    "    data1.append(whole_data[0::4])\n",
    "    data2.append(whole_data[1::4])\n",
    "    data3.append(whole_data[2::4])\n",
    "    data4.append(whole_data[3::4])\n",
    "    i=i-1\n",
    "\n",
    "OUTPUT_CHANNELS = 1\n",
    "OUTPUT_RATE = (RATE*OUTPUT_CHANNELS)/INPUT_CHANNELS\n",
    "waveFile = wave.open(\"mic1.wav\", 'wb')\n",
    "waveFile.setnchannels(OUTPUT_CHANNELS)\n",
    "waveFile.setsampwidth(p.get_sample_size(FORMAT))\n",
    "waveFile.setframerate(OUTPUT_RATE)\n",
    "waveFile.writeframes(b''.join(data1))\n",
    "waveFile.close()\n"
   ]
  },
  {
   "cell_type": "code",
   "execution_count": null,
   "metadata": {},
   "outputs": [],
   "source": []
  },
  {
   "cell_type": "code",
   "execution_count": null,
   "metadata": {},
   "outputs": [],
   "source": []
  }
 ],
 "metadata": {
  "kernelspec": {
   "display_name": "Python 3",
   "language": "python",
   "name": "python3"
  },
  "language_info": {
   "codemirror_mode": {
    "name": "ipython",
    "version": 3
   },
   "file_extension": ".py",
   "mimetype": "text/x-python",
   "name": "python",
   "nbconvert_exporter": "python",
   "pygments_lexer": "ipython3",
   "version": "3.7.3"
  }
 },
 "nbformat": 4,
 "nbformat_minor": 2
}
