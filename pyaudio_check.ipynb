{
 "cells": [
  {
   "cell_type": "code",
   "execution_count": 1,
   "metadata": {},
   "outputs": [],
   "source": [
    "import pyaudio\n",
    "import wave\n",
    "\n",
    "p = pyaudio.PyAudio()"
   ]
  },
  {
   "cell_type": "code",
   "execution_count": 2,
   "metadata": {},
   "outputs": [
    {
     "name": "stdout",
     "output_type": "stream",
     "text": [
      "input device id 0 -- Microsoft Sound Mapper - Input\n",
      "input device id 1 -- Microphone (5- USB PnP Sound De\n",
      "input device id 2 -- Microphone (Realtek High Defini\n"
     ]
    }
   ],
   "source": [
    "info = p.get_host_api_info_by_index(0)\n",
    "numdevices = info.get('deviceCount')\n",
    "for i in range(0, numdevices):\n",
    "    if(p.get_device_info_by_host_api_device_index(0,i).get('maxInputChannels'))>0:\n",
    "        print(\"input device id {} -- {}\".format(i,p.get_device_info_by_host_api_device_index(0,i).get('name')));"
   ]
  },
  {
   "cell_type": "code",
   "execution_count": 3,
   "metadata": {
    "scrolled": true
   },
   "outputs": [
    {
     "name": "stdout",
     "output_type": "stream",
     "text": [
      "22\n",
      "(0, 'Microsoft Sound Mapper - Input', 2)\n",
      "(1, 'Microphone (5- USB PnP Sound De', 1)\n",
      "(2, 'Microphone (Realtek High Defini', 2)\n",
      "(3, 'Microsoft Sound Mapper - Output', 0)\n",
      "(4, 'Speakers (5- USB PnP Sound Devi', 0)\n",
      "(5, 'Speakers / Headphones (Realtek ', 0)\n",
      "(6, 'Stereo Mix (Realtek HD Audio Stereo input)', 2)\n",
      "(7, 'Speakers (Realtek HD Audio output)', 0)\n",
      "(8, 'Microphone (Realtek HD Audio Mic input)', 2)\n",
      "(9, 'Headphones ()', 0)\n",
      "(10, 'Headset (@System32\\\\drivers\\\\bthhfenum.sys,#2;%1 Hands-Free%0\\r\\n;(G-SHOCK))', 0)\n",
      "(11, 'Headset (@System32\\\\drivers\\\\bthhfenum.sys,#2;%1 Hands-Free%0\\r\\n;(G-SHOCK))', 1)\n",
      "(12, 'Headset (@System32\\\\drivers\\\\bthhfenum.sys,#2;%1 Hands-Free%0\\r\\n;(MINISO H015))', 0)\n",
      "(13, 'Headset (@System32\\\\drivers\\\\bthhfenum.sys,#2;%1 Hands-Free%0\\r\\n;(MINISO H015))', 1)\n",
      "(14, 'Headset (@System32\\\\drivers\\\\bthhfenum.sys,#2;%1 Hands-Free%0\\r\\n;(TG-117))', 0)\n",
      "(15, 'Headset (@System32\\\\drivers\\\\bthhfenum.sys,#2;%1 Hands-Free%0\\r\\n;(TG-117))', 1)\n",
      "(16, 'Headphones ()', 0)\n",
      "(17, 'Headphones ()', 0)\n",
      "(18, 'Headset (@System32\\\\drivers\\\\bthhfenum.sys,#2;%1 Hands-Free%0\\r\\n;(BG920))', 0)\n",
      "(19, 'Headset (@System32\\\\drivers\\\\bthhfenum.sys,#2;%1 Hands-Free%0\\r\\n;(BG920))', 1)\n",
      "(20, 'Speakers (USB PnP Sound Device)', 0)\n",
      "(21, 'Microphone (USB PnP Sound Device)', 1)\n"
     ]
    }
   ],
   "source": [
    "print(p.get_device_count())\n",
    "for i in range(p.get_device_count()):\n",
    "    dev = p.get_device_info_by_index(i)\n",
    "    print((i,dev['name'],dev['maxInputChannels']))\n",
    "#for i,j in a:\n",
    "#    print('index : {}  Device : {}'.format(i,j))"
   ]
  },
  {
   "cell_type": "code",
   "execution_count": 4,
   "metadata": {},
   "outputs": [],
   "source": [
    "def record_to_file(filename1,filename2,index1 ,index2,FORMAT = pyaudio.paInt16, CHANNELS = 1, RATE = 8000,\n",
    "                    CHUNK = 1024, RECORD_SECONDS=3):\n",
    "    audio1 = pyaudio.PyAudio()\n",
    "    audio2 = pyaudio.PyAudio()\n",
    "    # start Recording\n",
    "    stream1 = audio1.open(input_device_index = index1,format=FORMAT, channels=CHANNELS,\n",
    "                    rate=RATE, input=True,\n",
    "                    frames_per_buffer=CHUNK)\n",
    "    stream2 = audio2.open(input_device_index = index2,format=FORMAT, channels=CHANNELS,\n",
    "                    rate=RATE, input=True,\n",
    "                    frames_per_buffer=CHUNK)\n",
    "        \n",
    "    frames1 = []\n",
    "    frames2 = []\n",
    "\n",
    "    for i in range(0, int(RATE / CHUNK * RECORD_SECONDS)):\n",
    "        data1 = stream1.read(CHUNK)\n",
    "        data2 = stream2.read(CHUNK)\n",
    "        frames1.append(data1)\n",
    "        frames2.append(data2)\n",
    "\n",
    "    # stop Recording\n",
    "    stream1.stop_stream()\n",
    "    stream2.stop_stream()\n",
    "    stream1.close()\n",
    "    stream2.close()\n",
    "    audio1.terminate()\n",
    "    audio2.terminate()\n",
    "    \n",
    "    \n",
    "\n",
    "    waveFile = wave.open(filename1, 'wb')\n",
    "    waveFile.setnchannels(CHANNELS)\n",
    "    waveFile.setsampwidth(audio1.get_sample_size(FORMAT))\n",
    "    waveFile.setframerate(RATE)\n",
    "    waveFile.writeframes(b''.join(frames1))\n",
    "    waveFile.close() \n",
    "    \n",
    "    waveFile = wave.open(filename2, 'wb')\n",
    "    waveFile.setnchannels(CHANNELS)\n",
    "    waveFile.setsampwidth(audio2.get_sample_size(FORMAT))\n",
    "    waveFile.setframerate(RATE)\n",
    "    waveFile.writeframes(b''.join(frames2))\n",
    "    waveFile.close() "
   ]
  },
  {
   "cell_type": "code",
   "execution_count": 5,
   "metadata": {},
   "outputs": [],
   "source": [
    "record_to_file('data1.wav','data2.wav',1,2)"
   ]
  },
  {
   "cell_type": "code",
   "execution_count": null,
   "metadata": {},
   "outputs": [],
   "source": []
  }
 ],
 "metadata": {
  "kernelspec": {
   "display_name": "Python 3",
   "language": "python",
   "name": "python3"
  },
  "language_info": {
   "codemirror_mode": {
    "name": "ipython",
    "version": 3
   },
   "file_extension": ".py",
   "mimetype": "text/x-python",
   "name": "python",
   "nbconvert_exporter": "python",
   "pygments_lexer": "ipython3",
   "version": "3.7.3"
  }
 },
 "nbformat": 4,
 "nbformat_minor": 2
}
