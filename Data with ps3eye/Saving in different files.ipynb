{
 "cells": [
  {
   "cell_type": "code",
   "execution_count": 1,
   "metadata": {},
   "outputs": [
    {
     "name": "stdout",
     "output_type": "stream",
     "text": [
      "input device id 5 -- HDA Intel PCH: ALC3234 Analog (hw:1,0)\n",
      "input device id 6 -- USB PnP Sound Device: Audio (hw:2,0)\n",
      "input device id 7 -- USB Camera-B4.09.24.1: Audio (hw:3,0)\n",
      "input device id 8 -- USB Camera-B4.09.24.1: Audio (hw:4,0)\n"
     ]
    }
   ],
   "source": [
    "import pyaudio\n",
    "import matplotlib.pyplot as plt \n",
    "import numpy as np\n",
    "import wave\n",
    "\n",
    "maxValue = 2**16\n",
    "bars = 35\n",
    "p=pyaudio.PyAudio()\n",
    "\n",
    "info = p.get_host_api_info_by_index(0)\n",
    "numdevices = info.get('deviceCount')\n",
    "for i in range(0, numdevices):\n",
    "    if(p.get_device_info_by_host_api_device_index(0,i).get('maxInputChannels'))>0:\n",
    "        print(\"input device id {} -- {}\".format(i,p.get_device_info_by_host_api_device_index(0,i).get('name')));\n",
    "\n",
    "device_index = 6\n",
    "FORMAT = pyaudio.paInt16\n",
    "INPUT_CHANNELS = 4\n",
    "RATE = 16000\n",
    "CHUNKS = 1024"
   ]
  },
  {
   "cell_type": "code",
   "execution_count": null,
   "metadata": {},
   "outputs": [],
   "source": [
    "stream=p.open(input_device_index = device_index,format=FORMAT,channels=INPUT_CHANNELS,rate=RATE,\n",
    "              input=True, frames_per_buffer=CHUNKS)\n",
    "\n",
    "data1 = []\n",
    "data2 = []\n",
    "data3 = []\n",
    "data4 = []\n",
    "data = []\n",
    "\n",
    "i = 100\n",
    "while i>0:\n",
    "    whole_data  = stream.read(CHUNKS) #np.fromstring(stream.read(CHUNKS),dtype=np.int16)\n",
    "    data.append(whole_data)\n",
    "    i=i-1\n",
    "\n",
    "data = b''.join(data)\n",
    "\n",
    "waveFile = wave.open(\"data.wav\",'wb')\n",
    "waveFile.setnchannels(INPUT_CHANNELS)\n",
    "waveFile.setsampwidth(p.get_sample_size(FORMAT))\n",
    "waveFile.setframerate(RATE)\n",
    "waveFile.writeframes(data)\n",
    "waveFile.close()"
   ]
  },
  {
   "cell_type": "code",
   "execution_count": null,
   "metadata": {},
   "outputs": [],
   "source": [
    "data_after = np.frombuffer(data,dtype=np.int16)\n",
    "\n",
    "data1 = data_after[0::4]\n",
    "data2 = data_after[1::4]\n",
    "data3 = data_after[2::4]\n",
    "data4 = data_after[3::4]\n",
    " \n",
    "OUTPUT_CHANNELS = 1\n",
    "\n",
    "def save_in_wav_file(filename,data_info):\n",
    "    waveFile = wave.open(filename, 'wb')\n",
    "    waveFile.setnchannels(OUTPUT_CHANNELS)\n",
    "    waveFile.setsampwidth(p.get_sample_size(FORMAT))\n",
    "    waveFile.setframerate(RATE)\n",
    "    waveFile.writeframes(data_info.tostring())\n",
    "    waveFile.close()\n",
    "    \n",
    "save_in_wav_file('ch1.wav', data1)\n",
    "save_in_wav_file('ch2.wav', data2)\n",
    "save_in_wav_file('ch3.wav', data3)\n",
    "save_in_wav_file('ch4.wav', data4)"
   ]
  },
  {
   "cell_type": "code",
   "execution_count": null,
   "metadata": {},
   "outputs": [],
   "source": []
  },
  {
   "cell_type": "code",
   "execution_count": null,
   "metadata": {},
   "outputs": [],
   "source": []
  }
 ],
 "metadata": {
  "kernelspec": {
   "display_name": "Python 3",
   "language": "python",
   "name": "python3"
  },
  "language_info": {
   "codemirror_mode": {
    "name": "ipython",
    "version": 3
   },
   "file_extension": ".py",
   "mimetype": "text/x-python",
   "name": "python",
   "nbconvert_exporter": "python",
   "pygments_lexer": "ipython3",
   "version": "3.7.3"
  }
 },
 "nbformat": 4,
 "nbformat_minor": 2
}
