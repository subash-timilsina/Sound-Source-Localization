{
 "cells": [
  {
   "cell_type": "code",
   "execution_count": 5,
   "metadata": {},
   "outputs": [],
   "source": [
    "import pyaudio\n",
    "import wave\n",
    "\n",
    "p = pyaudio.PyAudio()"
   ]
  },
  {
   "cell_type": "code",
   "execution_count": 6,
   "metadata": {
    "scrolled": true
   },
   "outputs": [
    {
     "name": "stdout",
     "output_type": "stream",
     "text": [
      "22\n",
      "(0, 'Microsoft Sound Mapper - Input', 2)\n",
      "(1, 'Microphone (USB PnP Sound Devic', 1)\n",
      "(2, 'Microphone (Realtek High Defini', 2)\n",
      "(3, 'Microsoft Sound Mapper - Output', 0)\n",
      "(4, 'Speakers (USB PnP Sound Device)', 0)\n",
      "(5, 'Speakers / Headphones (Realtek ', 0)\n",
      "(6, 'Headphones ()', 0)\n",
      "(7, 'Headphones ()', 0)\n",
      "(8, 'Stereo Mix (Realtek HD Audio Stereo input)', 2)\n",
      "(9, 'Speakers (Realtek HD Audio output)', 0)\n",
      "(10, 'Microphone (Realtek HD Audio Mic input)', 2)\n",
      "(11, 'Headset (@System32\\\\drivers\\\\bthhfenum.sys,#2;%1 Hands-Free%0\\r\\n;(G-SHOCK))', 0)\n",
      "(12, 'Headset (@System32\\\\drivers\\\\bthhfenum.sys,#2;%1 Hands-Free%0\\r\\n;(G-SHOCK))', 1)\n",
      "(13, 'Headphones ()', 0)\n",
      "(14, 'Headset (@System32\\\\drivers\\\\bthhfenum.sys,#2;%1 Hands-Free%0\\r\\n;(BG920))', 0)\n",
      "(15, 'Headset (@System32\\\\drivers\\\\bthhfenum.sys,#2;%1 Hands-Free%0\\r\\n;(BG920))', 1)\n",
      "(16, 'Headset (@System32\\\\drivers\\\\bthhfenum.sys,#2;%1 Hands-Free%0\\r\\n;(TG-117))', 0)\n",
      "(17, 'Headset (@System32\\\\drivers\\\\bthhfenum.sys,#2;%1 Hands-Free%0\\r\\n;(TG-117))', 1)\n",
      "(18, 'Speakers (USB PnP Sound Device)', 0)\n",
      "(19, 'Microphone (USB PnP Sound Device)', 1)\n",
      "(20, 'Headset (@System32\\\\drivers\\\\bthhfenum.sys,#2;%1 Hands-Free%0\\r\\n;(MINISO H015))', 0)\n",
      "(21, 'Headset (@System32\\\\drivers\\\\bthhfenum.sys,#2;%1 Hands-Free%0\\r\\n;(MINISO H015))', 1)\n"
     ]
    }
   ],
   "source": [
    "print(p.get_device_count())\n",
    "for i in range(p.get_device_count()):\n",
    "    dev = p.get_device_info_by_index(i)\n",
    "    print((i,dev['name'],dev['maxInputChannels']))\n",
    "#for i,j in a:\n",
    "#    print('index : {}  Device : {}'.format(i,j))"
   ]
  },
  {
   "cell_type": "code",
   "execution_count": 88,
   "metadata": {},
   "outputs": [],
   "source": [
    "def record_to_file(filename,FORMAT = pyaudio.paInt16, CHANNELS = 1, RATE = 8000,\n",
    "                    CHUNK = 1024, RECORD_SECONDS=3):\n",
    "    audio = pyaudio.PyAudio()\n",
    "\n",
    "    # start Recording\n",
    "    stream = audio.open(input_device_index = 0,format=FORMAT, channels=CHANNELS,\n",
    "                    rate=RATE, input=True,\n",
    "                    frames_per_buffer=CHUNK)\n",
    "    frames = []\n",
    "\n",
    "    for i in range(0, int(RATE / CHUNK * RECORD_SECONDS)):\n",
    "        data = stream.read(CHUNK)\n",
    "        frames.append(data)\n",
    "\n",
    "    # stop Recording\n",
    "    stream.stop_stream()\n",
    "    stream.close()\n",
    "    audio.terminate()\n",
    "\n",
    "    waveFile = wave.open(filename, 'wb')\n",
    "    waveFile.setnchannels(CHANNELS)\n",
    "    waveFile.setsampwidth(audio.get_sample_size(FORMAT))\n",
    "    waveFile.setframerate(RATE)\n",
    "    waveFile.writeframes(b''.join(frames))\n",
    "    waveFile.close() "
   ]
  },
  {
   "cell_type": "code",
   "execution_count": 89,
   "metadata": {},
   "outputs": [],
   "source": [
    "record_to_file('hello.wav')"
   ]
  }
 ],
 "metadata": {
  "kernelspec": {
   "display_name": "Python 3",
   "language": "python",
   "name": "python3"
  },
  "language_info": {
   "codemirror_mode": {
    "name": "ipython",
    "version": 3
   },
   "file_extension": ".py",
   "mimetype": "text/x-python",
   "name": "python",
   "nbconvert_exporter": "python",
   "pygments_lexer": "ipython3",
   "version": "3.7.3"
  }
 },
 "nbformat": 4,
 "nbformat_minor": 2
}
