{
 "cells": [
  {
   "cell_type": "code",
   "execution_count": 1,
   "metadata": {},
   "outputs": [
    {
     "data": {
      "text/plain": [
       "{'divide': 'warn', 'over': 'warn', 'under': 'ignore', 'invalid': 'warn'}"
      ]
     },
     "execution_count": 1,
     "metadata": {},
     "output_type": "execute_result"
    }
   ],
   "source": [
    "import soundfile as sf\n",
    "from scipy.interpolate import interp1d\n",
    "import numpy as np\n",
    "import sys\n",
    "np.seterr(divide='ignore', invalid='ignore')"
   ]
  },
  {
   "cell_type": "code",
   "execution_count": 2,
   "metadata": {},
   "outputs": [],
   "source": [
    "def length(x):\n",
    "    return np.max(np.asarray(x).shape)"
   ]
  },
  {
   "cell_type": "code",
   "execution_count": 3,
   "metadata": {},
   "outputs": [],
   "source": [
    "def Stft(xt,wlen):\n",
    "############ Taking Stft of the signal#################\n",
    "    nchan,nsamp = xt.shape\n",
    "    win = np.sin(np.arange(0.5,wlen+0.5)/wlen*np.pi).reshape(1024,1) #Applying sine window for short time fft\n",
    "    nfram = nsamp//wlen*2 - 1\n",
    "    nbin = wlen//2 + 1\n",
    "    \n",
    "    startSample = (np.arange(0,nfram)*wlen/2 + 1).T\n",
    "    endSample = (np.arange(0,nfram)*wlen/2+wlen).T\n",
    "    \n",
    "    X = np.zeros(shape=(nchan,nbin,nfram)) + 1j*np.zeros(shape=(nchan,nbin,nfram))\n",
    "    \n",
    "    for i in range(nchan):\n",
    "        for t in range(nfram):\n",
    "            frame = (xt[i,[np.arange(t*wlen//2,t*wlen//2+wlen)]].T)*win ## Multiplying frame of every channel with sine window\n",
    "            fframe = np.fft.fft(frame.T).reshape(wlen,1)\n",
    "            X[[i],:,t] = fframe[np.arange(nbin)].T\n",
    "            \n",
    "    return X,startSample,endSample\n"
   ]
  },
  {
   "cell_type": "code",
   "execution_count": 4,
   "metadata": {},
   "outputs": [],
   "source": [
    "############################ Preprocessing signal part #############################\n",
    "def Preprocess(micPosT,c,azimuthGrid,elevationGrid,alphaRes):\n",
    "    \n",
    "    nDirection = length(azimuthGrid)\n",
    "    nMic = micPosT.shape[0]\n",
    "    pairId = nchoosek(np.arange(nMic),2)\n",
    "    nMicPair = pairId.shape[0]\n",
    "    \n",
    "    ##Microphone direction vector (in xyz) for each pair\n",
    "    pfMn1n2 = micPosT[pairId[:,0],:] - micPosT[pairId[:,1],:]\n",
    "    \n",
    "    dMic = np.sqrt(np.sum(np.power(pfMn1n2,2),1)).reshape(nMicPair,1)\n",
    "    Pjk = np.zeros((3,nDirection))\n",
    "    \n",
    "    \n",
    "    \n",
    "    Pjk[0,:], Pjk[1,:], Pjk[2,:] = sph2cart(np.deg2rad(azimuthGrid),np.deg2rad(elevationGrid),1)\n",
    "    \n",
    "    Pjk_All = np.tile(Pjk,(nMicPair,1,1))\n",
    "    Pjk_All = np.transpose(Pjk_All,(2,1,0))\n",
    "    \n",
    "    Mn1n2_All = np.tile(pfMn1n2.T,(nDirection,1,1))\n",
    "    \n",
    "    temp_int = np.squeeze(shiftdim(np.sum(Pjk_All*Mn1n2_All,axis=1,keepdims=True),1))/np.tile(dMic,(1,nDirection))\n",
    "    alpha = np.real(np.rad2deg(np.arccos(temp_int)))  \n",
    "    \n",
    "    alphaSampled = np.ndarray(nMicPair,dtype = np.object)\n",
    "    tauGrid = np.ndarray(nMicPair,dtype = np.object)\n",
    "    \n",
    "    for index in range(nMicPair):\n",
    "        alphaSampled[index] = np.arange(np.floor(np.amin(alpha[[index],:])/alphaRes) * alphaRes , np.ceil(np.amax(alpha[[index],:])/alphaRes) * alphaRes+1,alphaRes)\n",
    "        tauGrid[index] = dMic[index]*np.array([np.cos(np.deg2rad(alphaSampled[index]))/c])\n",
    "     \n",
    "        \n",
    "    return alphaSampled,tauGrid,pairId,alpha\n",
    "    "
   ]
  },
  {
   "cell_type": "code",
   "execution_count": 5,
   "metadata": {},
   "outputs": [],
   "source": [
    "############Spherical coordinate to cartesian Coordinate\n",
    "def sph2cart(az, el, r):\n",
    "    rcos_theta = r * np.cos(el)\n",
    "    x = rcos_theta * np.cos(az)\n",
    "    y = rcos_theta * np.sin(az)\n",
    "    z = r * np.sin(el)\n",
    "    return x, y, z"
   ]
  },
  {
   "cell_type": "code",
   "execution_count": 6,
   "metadata": {},
   "outputs": [],
   "source": [
    "#############List possible combinations of microphones possible\n",
    "def nchoosek(arr,element):\n",
    "    from itertools import combinations\n",
    "    comb = list(combinations(arr, element))  \n",
    "    comb = np.asarray(comb)\n",
    "    return comb"
   ]
  },
  {
   "cell_type": "code",
   "execution_count": 7,
   "metadata": {},
   "outputs": [],
   "source": [
    "################Shift the dimension of the given matrix\n",
    "def shiftdim(A,num):\n",
    "    a,b,c = A.shape\n",
    "    if num ==1 :\n",
    "        temp = np.transpose(A,(1,2,0))\n",
    "    else:\n",
    "        raise Exception(\"Error number\")\n",
    "    return temp"
   ]
  },
  {
   "cell_type": "code",
   "execution_count": 8,
   "metadata": {},
   "outputs": [],
   "source": [
    "def PHAT_implement(X,f,tauGrid):\n",
    "    \n",
    "    if X.ndim == 2:\n",
    "        X = X.reshape(2,512,1)\n",
    "    \n",
    "    X1 = X[0,:,:]\n",
    "    X2 = X[1,:,:]\n",
    "    nbin,nFrames = X1.shape\n",
    "    ngrid = length(tauGrid)\n",
    "    P = X1*np.conj(X2)\n",
    "    P = P/np.abs(P)\n",
    "    spec = np.zeros((ngrid,nbin,nFrames))\n",
    "    for pkInd in range(ngrid):\n",
    "        EXP = np.tile(np.exp(-2*1j*np.pi*tauGrid[pkInd]*f),(1,nFrames))\n",
    "        spec[pkInd,:,:] = np.real(P)*np.real(EXP) - np.imag(P)*np.imag(EXP)\n",
    "    \n",
    "    return spec\n",
    "    "
   ]
  },
  {
   "cell_type": "code",
   "execution_count": 9,
   "metadata": {},
   "outputs": [],
   "source": [
    "def interp1q(x,y,xin):\n",
    "    final_out = np.zeros((xin.shape[0],y.shape[1]))\n",
    "    for i in range(y.shape[1]):\n",
    "        inter_dat = interp1d(x, (y.T)[i])\n",
    "        interpolate_dat = inter_dat(xin) \n",
    "        final_out[:,i] = interpolate_dat \n",
    "    return final_out"
   ]
  },
  {
   "cell_type": "code",
   "execution_count": 10,
   "metadata": {},
   "outputs": [],
   "source": [
    "def Compute_GCCPHAT_GRID(X_current,alphaSampled,tauGrid,pairId,alpha,nGrid,nframe,f,freqBins):\n",
    "    \n",
    "    nPairs = alphaSampled.shape[0]\n",
    "    \n",
    "    specInst = np.zeros((nGrid, nframe))\n",
    "    \n",
    "    for i in range(nPairs):\n",
    "        spec = PHAT_implement(np.squeeze(np.squeeze(X_current[pairId[[i],:],:])[:,freqBins]),np.squeeze(f[freqBins],axis=0),tauGrid[i].T)\n",
    "        specSampledgrid = np.sum(spec,axis=1)\n",
    "        specCurrentPair = interp1q(alphaSampled[i], specSampledgrid, alpha[i,:])\n",
    "        specInst = specInst + specCurrentPair\n",
    "        \n",
    "    return specInst"
   ]
  },
  {
   "cell_type": "code",
   "execution_count": 11,
   "metadata": {},
   "outputs": [],
   "source": [
    "#################### Searching the peaks::::::::::::::::::::\n",
    "def Search_peaks(specGlobal,nEl,nAz,nsrc,azimuthGrid,elevationGrid,MinAngle):\n",
    "    \n",
    "    ppfSpec2D = (specGlobal.reshape(nEl,nAz))\n",
    "\n",
    "    ppfPadpeakFilter = np.ones((ppfSpec2D.shape[0]+2,ppfSpec2D.shape[1]+2)) * -np.inf\n",
    "    \n",
    "    ppfPadpeakFilter[1:-1,1:-1] = ppfSpec2D\n",
    "    \n",
    "    ppiPeaks = ((ppfPadpeakFilter[1:-1,1:-1] >= ppfPadpeakFilter[0:-2,1:-1])& \n",
    "    (ppfPadpeakFilter[1:-1,1:-1] >= ppfPadpeakFilter[2:,  1:-1])& \n",
    "    (ppfPadpeakFilter[1:-1,1:-1] >= ppfPadpeakFilter[1:-1,0:-2])& \n",
    "    (ppfPadpeakFilter[1:-1,1:-1] >= ppfPadpeakFilter[1:-1,2:  ])& \n",
    "    (ppfPadpeakFilter[1:-1,1:-1] >= ppfPadpeakFilter[0:-2,0:-2])& \n",
    "    (ppfPadpeakFilter[1:-1,1:-1] >= ppfPadpeakFilter[0:-2,2:  ])& \n",
    "    (ppfPadpeakFilter[1:-1,1:-1] >= ppfPadpeakFilter[2:,  0:-2])& \n",
    "    (ppfPadpeakFilter[1:-1,1:-1] >= ppfPadpeakFilter[2:,  2:  ])).astype(int)\n",
    "    \n",
    "    iNbLocalmaxima = np.sum(ppiPeaks)\n",
    "    \n",
    "    ppfSpec2D_peaks = (ppfSpec2D - np.min(ppfSpec2D)) * ppiPeaks\n",
    "    \n",
    "    pfSpec1D_peaks= (ppfSpec2D_peaks).reshape(1,nEl*nAz)\n",
    "    \n",
    "    piIndexPeaks1D = np.argsort(-pfSpec1D_peaks)\n",
    "    piEstSourcesIndex = piIndexPeaks1D[:,0]\n",
    "    \n",
    "    index = 1 \n",
    "    iNbSourcesFound = 1\n",
    "    \n",
    "    \n",
    "    ### Calculating the Curvilinear distance between sources #############################\n",
    "    while (iNbSourcesFound < nsrc and index <= iNbLocalmaxima):\n",
    "        bAngleAllowed = 1\n",
    "    \n",
    "        for i in range(length(piEstSourcesIndex)):\n",
    "            val=np.sin(np.deg2rad(elevationGrid[0,piEstSourcesIndex[i]]))*np.sin(np.deg2rad(elevationGrid[0,piIndexPeaks1D[0,index]]))+np.cos(np.deg2rad(elevationGrid[0,piEstSourcesIndex[i]]))*np.cos(np.deg2rad(elevationGrid[0,piIndexPeaks1D[0,index]]))*np.cos(np.deg2rad(azimuthGrid[0,piIndexPeaks1D[0,index]])-np.deg2rad(azimuthGrid[0,piEstSourcesIndex[i]])) \n",
    "            dist = np.rad2deg(np.arccos(val))\n",
    "            if(dist < MinAngle):\n",
    "                bAngleAllowed =0\n",
    "                break\n",
    "    \n",
    "        if(bAngleAllowed):\n",
    "            piEstSourcesIndex = np.append(piEstSourcesIndex,piIndexPeaks1D[0,index])\n",
    "            iNbSourcesFound = iNbSourcesFound + 1\n",
    "    \n",
    "        index = index + 1\n",
    "        \n",
    "    azEst = azimuthGrid[0,piEstSourcesIndex]\n",
    "    elEst = elevationGrid[0,piEstSourcesIndex]\n",
    "        \n",
    "    return azEst,elEst\n",
    "    "
   ]
  },
  {
   "cell_type": "code",
   "execution_count": 12,
   "metadata": {},
   "outputs": [],
   "source": [
    "def main():\n",
    "       \n",
    "    #x,fs = sf.read('8D.wav')\n",
    "    x,fs = sf.read('test.wav')\n",
    "    #x,fs = sf.read('male_female_mixture.wav')\n",
    "    wlen = 1024\n",
    "    nsamp,nchan = x.shape\n",
    "    #print(x.shape)\n",
    "    nsrc = 1\n",
    "    c = 343\n",
    "    f = ((fs/wlen)*np.array([np.arange(1,wlen//2+1)])).T\n",
    "    freqBins = np.array([np.arange(length(f))])\n",
    "    \n",
    "    micPos = [[ 0.055,  -0.053,  -0.085, -0.085, -0.054,  0.051,  0.085, 0.085],\n",
    "              [ 0.085,   0.085,   0.052, -0.055, -0.085, -0.085, -0.054, 0.054],\n",
    "              [-0.055,   0.053,  -0.054,  0.052, -0.054,  0.054, -0.055, 0.052]]\n",
    "    \n",
    "    micPos = np.asarray(micPos)\n",
    "    \n",
    "    X,startSample,endSample= Stft(x.T,wlen)\n",
    "    X = X[:,1:,:]  \n",
    "    #print(X.shape)\n",
    "        \n",
    "    nframe = X.shape[2]\n",
    "    frameStart = 0\n",
    "    frameEnd = nframe-1\n",
    "    nblocks = 0\n",
    "    blockTimestamps = ((startSample[frameEnd] + startSample[frameStart])/2)/fs\n",
    "    X_current = X[:,:,np.arange(frameStart,frameEnd+1)]\n",
    "    #print(X_current.shape)\n",
    "    \n",
    "    gridRes = 1 #1 degree resolution on 3D\n",
    "    alphaRes = 5 # interpolation resolution\n",
    "    MinAngle = 10 #Minimum Angles between the peaks\n",
    "    \n",
    "    azimuth = np.asarray([np.arange(-179,181,gridRes)]).T\n",
    "    elevation = np.asarray([np.arange(-90,91,gridRes)])\n",
    "    \n",
    "    nAz = length(azimuth)\n",
    "    nEl = length(elevation)\n",
    "    \n",
    "    azimuthGrid = np.tile(azimuth,(nEl,1)).T\n",
    "    elevationGrid = (np.tile(elevation,(nAz,1)).T).reshape(1,nAz*nEl)\n",
    "    \n",
    "    alphaSampled,tauGrid,pairId,alpha = Preprocess(micPos.T,c,azimuthGrid,elevationGrid,alphaRes)\n",
    "    specInst = Compute_GCCPHAT_GRID(X_current,alphaSampled,tauGrid,pairId,alpha,nAz*nEl,nframe,f,freqBins)\n",
    "    \n",
    "    ######Applying max pooling function\n",
    "    \n",
    "    specGlobal = np.array([np.max(specInst,1)]).T\n",
    "    \n",
    "    azEst,elEst = Search_peaks(specGlobal,nEl,nAz,nsrc,azimuthGrid,elevationGrid,MinAngle)\n",
    "    \n",
    "    for i in range(nsrc):\n",
    "        print(\"Source %d :\" %(i+1))\n",
    "        print(\"   \")\n",
    "        print(\"Azimuth = {}\" .format(azEst[i]))\n",
    "        print(\"Elevation = {}\" .format(elEst[i]))\n",
    "        print(\"   \")\n",
    "    "
   ]
  },
  {
   "cell_type": "code",
   "execution_count": 13,
   "metadata": {},
   "outputs": [
    {
     "ename": "ValueError",
     "evalue": "arange: cannot compute length",
     "output_type": "error",
     "traceback": [
      "\u001b[0;31m---------------------------------------------------------------------------\u001b[0m",
      "\u001b[0;31mValueError\u001b[0m                                Traceback (most recent call last)",
      "\u001b[0;32m<ipython-input-13-972361fa1b80>\u001b[0m in \u001b[0;36m<module>\u001b[0;34m\u001b[0m\n\u001b[1;32m      1\u001b[0m \u001b[0;32mif\u001b[0m \u001b[0m__name__\u001b[0m \u001b[0;34m==\u001b[0m \u001b[0;34m\"__main__\"\u001b[0m\u001b[0;34m:\u001b[0m\u001b[0;34m\u001b[0m\u001b[0;34m\u001b[0m\u001b[0m\n\u001b[0;32m----> 2\u001b[0;31m     \u001b[0mmain\u001b[0m\u001b[0;34m(\u001b[0m\u001b[0;34m)\u001b[0m\u001b[0;34m\u001b[0m\u001b[0;34m\u001b[0m\u001b[0m\n\u001b[0m",
      "\u001b[0;32m<ipython-input-12-108e71a4c795>\u001b[0m in \u001b[0;36mmain\u001b[0;34m()\u001b[0m\n\u001b[1;32m     43\u001b[0m     \u001b[0melevationGrid\u001b[0m \u001b[0;34m=\u001b[0m \u001b[0;34m(\u001b[0m\u001b[0mnp\u001b[0m\u001b[0;34m.\u001b[0m\u001b[0mtile\u001b[0m\u001b[0;34m(\u001b[0m\u001b[0melevation\u001b[0m\u001b[0;34m,\u001b[0m\u001b[0;34m(\u001b[0m\u001b[0mnAz\u001b[0m\u001b[0;34m,\u001b[0m\u001b[0;36m1\u001b[0m\u001b[0;34m)\u001b[0m\u001b[0;34m)\u001b[0m\u001b[0;34m.\u001b[0m\u001b[0mT\u001b[0m\u001b[0;34m)\u001b[0m\u001b[0;34m.\u001b[0m\u001b[0mreshape\u001b[0m\u001b[0;34m(\u001b[0m\u001b[0;36m1\u001b[0m\u001b[0;34m,\u001b[0m\u001b[0mnAz\u001b[0m\u001b[0;34m*\u001b[0m\u001b[0mnEl\u001b[0m\u001b[0;34m)\u001b[0m\u001b[0;34m\u001b[0m\u001b[0;34m\u001b[0m\u001b[0m\n\u001b[1;32m     44\u001b[0m \u001b[0;34m\u001b[0m\u001b[0m\n\u001b[0;32m---> 45\u001b[0;31m     \u001b[0malphaSampled\u001b[0m\u001b[0;34m,\u001b[0m\u001b[0mtauGrid\u001b[0m\u001b[0;34m,\u001b[0m\u001b[0mpairId\u001b[0m\u001b[0;34m,\u001b[0m\u001b[0malpha\u001b[0m \u001b[0;34m=\u001b[0m \u001b[0mPreprocess\u001b[0m\u001b[0;34m(\u001b[0m\u001b[0mmicPos\u001b[0m\u001b[0;34m.\u001b[0m\u001b[0mT\u001b[0m\u001b[0;34m,\u001b[0m\u001b[0mc\u001b[0m\u001b[0;34m,\u001b[0m\u001b[0mazimuthGrid\u001b[0m\u001b[0;34m,\u001b[0m\u001b[0melevationGrid\u001b[0m\u001b[0;34m,\u001b[0m\u001b[0malphaRes\u001b[0m\u001b[0;34m)\u001b[0m\u001b[0;34m\u001b[0m\u001b[0;34m\u001b[0m\u001b[0m\n\u001b[0m\u001b[1;32m     46\u001b[0m     \u001b[0mspecInst\u001b[0m \u001b[0;34m=\u001b[0m \u001b[0mCompute_GCCPHAT_GRID\u001b[0m\u001b[0;34m(\u001b[0m\u001b[0mX_current\u001b[0m\u001b[0;34m,\u001b[0m\u001b[0malphaSampled\u001b[0m\u001b[0;34m,\u001b[0m\u001b[0mtauGrid\u001b[0m\u001b[0;34m,\u001b[0m\u001b[0mpairId\u001b[0m\u001b[0;34m,\u001b[0m\u001b[0malpha\u001b[0m\u001b[0;34m,\u001b[0m\u001b[0mnAz\u001b[0m\u001b[0;34m*\u001b[0m\u001b[0mnEl\u001b[0m\u001b[0;34m,\u001b[0m\u001b[0mnframe\u001b[0m\u001b[0;34m,\u001b[0m\u001b[0mf\u001b[0m\u001b[0;34m,\u001b[0m\u001b[0mfreqBins\u001b[0m\u001b[0;34m)\u001b[0m\u001b[0;34m\u001b[0m\u001b[0;34m\u001b[0m\u001b[0m\n\u001b[1;32m     47\u001b[0m \u001b[0;34m\u001b[0m\u001b[0m\n",
      "\u001b[0;32m<ipython-input-4-92919bb77ebb>\u001b[0m in \u001b[0;36mPreprocess\u001b[0;34m(micPosT, c, azimuthGrid, elevationGrid, alphaRes)\u001b[0m\n\u001b[1;32m     29\u001b[0m \u001b[0;34m\u001b[0m\u001b[0m\n\u001b[1;32m     30\u001b[0m     \u001b[0;32mfor\u001b[0m \u001b[0mindex\u001b[0m \u001b[0;32min\u001b[0m \u001b[0mrange\u001b[0m\u001b[0;34m(\u001b[0m\u001b[0mnMicPair\u001b[0m\u001b[0;34m)\u001b[0m\u001b[0;34m:\u001b[0m\u001b[0;34m\u001b[0m\u001b[0;34m\u001b[0m\u001b[0m\n\u001b[0;32m---> 31\u001b[0;31m         \u001b[0malphaSampled\u001b[0m\u001b[0;34m[\u001b[0m\u001b[0mindex\u001b[0m\u001b[0;34m]\u001b[0m \u001b[0;34m=\u001b[0m \u001b[0mnp\u001b[0m\u001b[0;34m.\u001b[0m\u001b[0marange\u001b[0m\u001b[0;34m(\u001b[0m\u001b[0mnp\u001b[0m\u001b[0;34m.\u001b[0m\u001b[0mfloor\u001b[0m\u001b[0;34m(\u001b[0m\u001b[0mnp\u001b[0m\u001b[0;34m.\u001b[0m\u001b[0mamin\u001b[0m\u001b[0;34m(\u001b[0m\u001b[0malpha\u001b[0m\u001b[0;34m[\u001b[0m\u001b[0;34m[\u001b[0m\u001b[0mindex\u001b[0m\u001b[0;34m]\u001b[0m\u001b[0;34m,\u001b[0m\u001b[0;34m:\u001b[0m\u001b[0;34m]\u001b[0m\u001b[0;34m)\u001b[0m\u001b[0;34m/\u001b[0m\u001b[0malphaRes\u001b[0m\u001b[0;34m)\u001b[0m \u001b[0;34m*\u001b[0m \u001b[0malphaRes\u001b[0m \u001b[0;34m,\u001b[0m \u001b[0mnp\u001b[0m\u001b[0;34m.\u001b[0m\u001b[0mceil\u001b[0m\u001b[0;34m(\u001b[0m\u001b[0mnp\u001b[0m\u001b[0;34m.\u001b[0m\u001b[0mamax\u001b[0m\u001b[0;34m(\u001b[0m\u001b[0malpha\u001b[0m\u001b[0;34m[\u001b[0m\u001b[0;34m[\u001b[0m\u001b[0mindex\u001b[0m\u001b[0;34m]\u001b[0m\u001b[0;34m,\u001b[0m\u001b[0;34m:\u001b[0m\u001b[0;34m]\u001b[0m\u001b[0;34m)\u001b[0m\u001b[0;34m/\u001b[0m\u001b[0malphaRes\u001b[0m\u001b[0;34m)\u001b[0m \u001b[0;34m*\u001b[0m \u001b[0malphaRes\u001b[0m\u001b[0;34m+\u001b[0m\u001b[0;36m1\u001b[0m\u001b[0;34m,\u001b[0m\u001b[0malphaRes\u001b[0m\u001b[0;34m)\u001b[0m\u001b[0;34m\u001b[0m\u001b[0;34m\u001b[0m\u001b[0m\n\u001b[0m\u001b[1;32m     32\u001b[0m         \u001b[0mtauGrid\u001b[0m\u001b[0;34m[\u001b[0m\u001b[0mindex\u001b[0m\u001b[0;34m]\u001b[0m \u001b[0;34m=\u001b[0m \u001b[0mdMic\u001b[0m\u001b[0;34m[\u001b[0m\u001b[0mindex\u001b[0m\u001b[0;34m]\u001b[0m\u001b[0;34m*\u001b[0m\u001b[0mnp\u001b[0m\u001b[0;34m.\u001b[0m\u001b[0marray\u001b[0m\u001b[0;34m(\u001b[0m\u001b[0;34m[\u001b[0m\u001b[0mnp\u001b[0m\u001b[0;34m.\u001b[0m\u001b[0mcos\u001b[0m\u001b[0;34m(\u001b[0m\u001b[0mnp\u001b[0m\u001b[0;34m.\u001b[0m\u001b[0mdeg2rad\u001b[0m\u001b[0;34m(\u001b[0m\u001b[0malphaSampled\u001b[0m\u001b[0;34m[\u001b[0m\u001b[0mindex\u001b[0m\u001b[0;34m]\u001b[0m\u001b[0;34m)\u001b[0m\u001b[0;34m)\u001b[0m\u001b[0;34m/\u001b[0m\u001b[0mc\u001b[0m\u001b[0;34m]\u001b[0m\u001b[0;34m)\u001b[0m\u001b[0;34m\u001b[0m\u001b[0;34m\u001b[0m\u001b[0m\n\u001b[1;32m     33\u001b[0m \u001b[0;34m\u001b[0m\u001b[0m\n",
      "\u001b[0;31mValueError\u001b[0m: arange: cannot compute length"
     ]
    }
   ],
   "source": [
    "if __name__ == \"__main__\":\n",
    "    main()\n"
   ]
  },
  {
   "cell_type": "code",
   "execution_count": null,
   "metadata": {},
   "outputs": [],
   "source": []
  },
  {
   "cell_type": "code",
   "execution_count": null,
   "metadata": {},
   "outputs": [],
   "source": []
  }
 ],
 "metadata": {
  "kernelspec": {
   "display_name": "Python 3",
   "language": "python",
   "name": "python3"
  },
  "language_info": {
   "codemirror_mode": {
    "name": "ipython",
    "version": 3
   },
   "file_extension": ".py",
   "mimetype": "text/x-python",
   "name": "python",
   "nbconvert_exporter": "python",
   "pygments_lexer": "ipython3",
   "version": "3.7.3"
  }
 },
 "nbformat": 4,
 "nbformat_minor": 2
}
