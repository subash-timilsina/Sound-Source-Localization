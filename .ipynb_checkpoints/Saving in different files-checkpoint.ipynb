{
 "cells": [
  {
   "cell_type": "code",
   "execution_count": 1,
   "metadata": {},
   "outputs": [
    {
     "name": "stdout",
     "output_type": "stream",
     "text": [
      "input device id 0 -- Microsoft Sound Mapper - Input\n",
      "input device id 1 -- Microphone (2- USB Camera-B4.09\n",
      "input device id 2 -- Microphone (Realtek High Defini\n",
      "input device id 3 -- Microphone (USB PnP Sound Devic\n"
     ]
    }
   ],
   "source": [
    "import pyaudio\n",
    "import matplotlib.pyplot as plt \n",
    "import numpy as np\n",
    "import wave\n",
    "\n",
    "maxValue = 2**16\n",
    "bars = 35\n",
    "p=pyaudio.PyAudio()\n",
    "\n",
    "info = p.get_host_api_info_by_index(0)\n",
    "numdevices = info.get('deviceCount')\n",
    "for i in range(0, numdevices):\n",
    "    if(p.get_device_info_by_host_api_device_index(0,i).get('maxInputChannels'))>0:\n",
    "        print(\"input device id {} -- {}\".format(i,p.get_device_info_by_host_api_device_index(0,i).get('name')));\n",
    "\n",
    "device_index = 1\n",
    "FORMAT = pyaudio.paInt16\n",
    "INPUT_CHANNELS = 4\n",
    "RATE = 44100\n",
    "CHUNKS = 1024"
   ]
  },
  {
   "cell_type": "code",
   "execution_count": 7,
   "metadata": {},
   "outputs": [],
   "source": [
    "stream=p.open(input_device_index = device_index,format=FORMAT,channels=INPUT_CHANNELS,rate=RATE,\n",
    "              input=True, frames_per_buffer=CHUNKS)\n",
    "\n",
    "data1 = []\n",
    "data2 = []\n",
    "data3 = []\n",
    "data4 = []\n",
    "data = []\n",
    "\n",
    "i = 500\n",
    "while i>0:\n",
    "    whole_data  = stream.read(CHUNKS) #np.fromstring(stream.read(CHUNKS),dtype=np.int16)\n",
    "    data.append(whole_data)\n",
    "    i=i-1\n",
    "\n",
    "\n",
    "\n",
    "waveFile = wave.open(\"data.wav\",'wb')\n",
    "waveFile.setnchannels(INPUT_CHANNELS)\n",
    "waveFile.setsampwidth(p.get_sample_size(FORMAT))\n",
    "waveFile.setframerate(RATE)\n",
    "waveFile.writeframes(b''.join(data))\n",
    "waveFile.close()"
   ]
  },
  {
   "cell_type": "code",
   "execution_count": 14,
   "metadata": {},
   "outputs": [
    {
     "name": "stderr",
     "output_type": "stream",
     "text": [
      "C:\\Users\\Subash Timilsina\\Anaconda3\\lib\\site-packages\\ipykernel_launcher.py:2: DeprecationWarning: The binary mode of fromstring is deprecated, as it behaves surprisingly on unicode inputs. Use frombuffer instead\n",
      "  \n"
     ]
    }
   ],
   "source": [
    "data_concatenate = b''.join(data)\n",
    "data_after = np.fromstring(data_concatenate,dtype=np.uint16)\n",
    "\n",
    "data1 = data_after[0::4]\n",
    "data2 = data_after[1::4]\n",
    "data3 = data_after[2::4]\n",
    "data4 = data_after[3::4]\n",
    "\n",
    "OUTPUT_CHANNELS = 1\n",
    "\n",
    "def save_in_wav_file(filename,data_info):\n",
    "    waveFile = wave.open(filename, 'wb')\n",
    "    waveFile.setnchannels(OUTPUT_CHANNELS)\n",
    "    waveFile.setsampwidth(p.get_sample_size(FORMAT))\n",
    "    waveFile.setframerate(RATE)\n",
    "    waveFile.writeframes(data_info.tostring())\n",
    "    waveFile.close()\n",
    "    \n",
    "save_wav_channel('ch1.wav', data1)\n",
    "save_wav_channel('ch2.wav', data2)\n",
    "save_wav_channel('ch3.wav', data3)\n",
    "save_wav_channel('ch4.wav', data4)\n",
    "    \n"
   ]
  }
 ],
 "metadata": {
  "kernelspec": {
   "display_name": "Python 3",
   "language": "python",
   "name": "python3"
  },
  "language_info": {
   "codemirror_mode": {
    "name": "ipython",
    "version": 3
   },
   "file_extension": ".py",
   "mimetype": "text/x-python",
   "name": "python",
   "nbconvert_exporter": "python",
   "pygments_lexer": "ipython3",
   "version": "3.7.3"
  }
 },
 "nbformat": 4,
 "nbformat_minor": 2
}
