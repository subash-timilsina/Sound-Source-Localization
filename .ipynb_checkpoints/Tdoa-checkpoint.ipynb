{
 "cells": [
  {
   "cell_type": "code",
   "execution_count": 9,
   "metadata": {},
   "outputs": [],
   "source": [
    "import numpy as np\n",
    "from numpy.fft import fft, ifft, fft2, ifft2, fftshift\n",
    "import matplotlib.pyplot as plt\n",
    "from scipy.io import wavfile\n",
    "%matplotlib inline\n",
    "\n",
    "x = np.arange(0, 500, 1)\n",
    "fs1, data1 = wavfile.read('./ch1.wav')       #input sound data\n",
    "fs2, data2 = wavfile.read('./ch4.wav')\n",
    "\n",
    "data1_extracted = np.take(data1, x)             #extracting sample from original data\n",
    "data2_extracted = np.take(data2, x)\n",
    "\n",
    "y = np.array(data1_extracted, np.dtype(object))   #must typecast to object for new version of numpy\n",
    "z = np.array(data2_extracted, np.dtype(object))\n",
    "\n"
   ]
  },
  {
   "cell_type": "code",
   "execution_count": 10,
   "metadata": {},
   "outputs": [],
   "source": [
    "def xcorr(x, y, normed=True, detrend=False, maxlags=10):\n",
    "    # Cross correlation of two signals of equal length\n",
    "    # Returns the coefficients when normed=True\n",
    "    # Returns inner products when normed=False\n",
    "    # Usage: lags, c = xcorr(x,y,maxlags=len(x)-1)\n",
    "    # Optional detrending e.g. mlab.detrend_mean\n",
    "\n",
    "    Nx = len(x)\n",
    "    if Nx != len(y):\n",
    "        raise ValueError('x and y must be equal length')\n",
    "    \n",
    "    if detrend:\n",
    "        import matplotlib.mlab as mlab\n",
    "        x = mlab.detrend_mean(np.asarray(x)) # can set your preferences here\n",
    "        y = mlab.detrend_mean(np.asarray(y))\n",
    "    \n",
    "    c = np.correlate(x, y, mode='full')\n",
    "\n",
    "    if normed:\n",
    "        n = np.sqrt(np.dot(x, x) * np.dot(y, y)) # this is the transformation function\n",
    "        c = np.true_divide(c,n)\n",
    "\n",
    "    if maxlags is None:\n",
    "        maxlags = Nx - 1\n",
    "\n",
    "    if maxlags >= Nx or maxlags < 1:\n",
    "        raise ValueError('maglags must be None or strictly '\n",
    "                         'positive < %d' % Nx)\n",
    "\n",
    "    lags = np.arange(-maxlags, maxlags + 1)\n",
    "    c = c[Nx - 1 - maxlags:Nx + maxlags]\n",
    "    return lags, c"
   ]
  },
  {
   "cell_type": "code",
   "execution_count": 11,
   "metadata": {},
   "outputs": [],
   "source": [
    "lags,c = xcorr(y,z,maxlags = len(z)-1)"
   ]
  },
  {
   "cell_type": "code",
   "execution_count": 12,
   "metadata": {},
   "outputs": [
    {
     "data": {
      "text/plain": [
       "[<matplotlib.lines.Line2D at 0x2311e02be10>]"
      ]
     },
     "execution_count": 12,
     "metadata": {},
     "output_type": "execute_result"
    },
    {
     "data": {
      "image/png": "[encoded data removed]",
      "text/plain": [
       "<Figure size 432x288 with 1 Axes>"
      ]
     },
     "metadata": {
      "needs_background": "light"
     },
     "output_type": "display_data"
    }
   ],
   "source": [
    "plt.plot(lags,c)"
   ]
  },
  {
   "cell_type": "code",
   "execution_count": 13,
   "metadata": {},
   "outputs": [
    {
     "data": {
      "text/plain": [
       "499.0"
      ]
     },
     "execution_count": 13,
     "metadata": {},
     "output_type": "execute_result"
    }
   ],
   "source": [
    "(len(c)-1)/2\n",
    "#correlation data varies from -(len(c)-1)/2 to +(len(c)-1)/2"
   ]
  },
  {
   "cell_type": "code",
   "execution_count": 14,
   "metadata": {},
   "outputs": [],
   "source": [
    "maxpeak_position = (np.where(c==np.amax(c)))[0][0]"
   ]
  },
  {
   "cell_type": "code",
   "execution_count": 15,
   "metadata": {},
   "outputs": [
    {
     "data": {
      "text/plain": [
       "0.46040986330533445"
      ]
     },
     "execution_count": 15,
     "metadata": {},
     "output_type": "execute_result"
    }
   ],
   "source": [
    "maxpeak = np.amax(c)\n",
    "maxpeak"
   ]
  },
  {
   "cell_type": "code",
   "execution_count": 16,
   "metadata": {},
   "outputs": [
    {
     "data": {
      "text/plain": [
       "1"
      ]
     },
     "execution_count": 16,
     "metadata": {},
     "output_type": "execute_result"
    }
   ],
   "source": [
    "# So taking 0 as the starting point of both signal,\n",
    "# signal 'z' is lagging from signal 'y' by given samples\n",
    "\n",
    "lagging_samples = abs(500-maxpeak_position)\n",
    "lagging_samples"
   ]
  },
  {
   "cell_type": "code",
   "execution_count": 17,
   "metadata": {},
   "outputs": [],
   "source": [
    "#convert 1 sample to time in seconds for the given sampling frequency\n",
    "#and then convert 14 samples to time in seconds\n",
    "# channel 4 is lagging from channel 1 by \n",
    "#14 * sampling frequency equivalent time"
   ]
  },
  {
   "cell_type": "code",
   "execution_count": null,
   "metadata": {},
   "outputs": [],
   "source": []
  }
 ],
 "metadata": {
  "kernelspec": {
   "display_name": "Python 3",
   "language": "python",
   "name": "python3"
  },
  "language_info": {
   "codemirror_mode": {
    "name": "ipython",
    "version": 3
   },
   "file_extension": ".py",
   "mimetype": "text/x-python",
   "name": "python",
   "nbconvert_exporter": "python",
   "pygments_lexer": "ipython3",
   "version": "3.7.3"
  }
 },
 "nbformat": 4,
 "nbformat_minor": 2
}
