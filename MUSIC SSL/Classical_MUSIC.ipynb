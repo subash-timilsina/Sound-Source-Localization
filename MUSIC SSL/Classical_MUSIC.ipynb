{
 "cells": [
  {
   "cell_type": "code",
   "execution_count": 4,
   "metadata": {},
   "outputs": [
    {
     "name": "stdout",
     "output_type": "stream",
     "text": [
      "[1 2 3 0]\n",
      "[1.51495756e+17-2.38822567j 5.68664294e+16+0.81750966j\n",
      " 8.66002912e+16+5.51058325j 1.17256540e+17+0.06013276j]\n",
      "[ 12 167]\n",
      "MUSIC DoAs: [0.21060956 2.93098309] \n",
      "\n"
     ]
    },
    {
     "data": {
      "image/png": "[encoded data removed]",
      "text/plain": [
       "<Figure size 432x288 with 2 Axes>"
      ]
     },
     "metadata": {
      "needs_background": "light"
     },
     "output_type": "display_data"
    }
   ],
   "source": [
    "import numpy as np\n",
    "import matplotlib.pyplot as plt\n",
    "import scipy.linalg as LA\n",
    "import scipy.signal as ss\n",
    "from scipy.io import wavfile\n",
    "import operator\n",
    "\n",
    "# Functions\n",
    "def array_response_vector(array,theta):\n",
    "    N = array.shape\n",
    "    v = np.exp(1j*2*np.pi*array*np.sin(theta))\n",
    "    return v/np.sqrt(N)\n",
    "\n",
    "def music(CovMat,L,N,array,Angles):\n",
    "    # CovMat is the signal covariance matrix, L is the number of sources, N is the number of antennas\n",
    "    # array holds the positions of antenna elements\n",
    "    # Angles are the grid of directions in the azimuth angular domain\n",
    "    D,V = LA.eig(CovMat)\n",
    "    idx = D.argsort()\n",
    "    print(idx)\n",
    "    lmbd = D[idx]\n",
    "    print(D)\n",
    "    V = V[:, idx]\n",
    "    Qn  = V[:,L:N]\n",
    "    numAngles = Angles.size\n",
    "    pspectrum = np.zeros(numAngles)\n",
    "    for i in range(numAngles):\n",
    "        av = array_response_vector(array,Angles[i])\n",
    "        pspectrum[i] = 1/LA.norm((Qn.conj().transpose()@av))\n",
    "        \n",
    "    psindB    = np.log10(10*pspectrum/pspectrum.min())\n",
    "    DoAsMUSIC,_= ss.find_peaks(psindB,height=0, distance=1.2)\n",
    "    print(DoAsMUSIC)\n",
    "    return DoAsMUSIC,pspectrum\n",
    "\n",
    "#=============================================================\n",
    "\n",
    "L = 2  # number of sources\n",
    "N = 4  # number of ULA elements \n",
    "dist = 0.2272\n",
    "\n",
    "array = np.linspace(0,dist,N)\n",
    "\n",
    "plt.figure()\n",
    "plt.subplot(221)\n",
    "plt.plot(array,np.zeros(N),'^')\n",
    "plt.title('Uniform Linear Array')\n",
    "plt.legend(['Antenna'])\n",
    "\n",
    "\n",
    "Angles = np.linspace(0,np.pi,180)\n",
    "numAngles = Angles.size\n",
    "\n",
    "\n",
    "x = np.arange(0,220160,1)\n",
    "fs1, data1 = wavfile.read('./data_35_140.wav')\n",
    "\n",
    "#data1 = filteredData\n",
    "\n",
    "data_extracted = np.take(data1, x)\n",
    "data_extracted = np.fft.fft(data_extracted)\n",
    "#data_extracted = np.fft.ifft(data_extracted)\n",
    "\n",
    "data1 = data_extracted[0::4]\n",
    "data2 = data_extracted[1::4]\n",
    "data3 = data_extracted[2::4]\n",
    "data4 = data_extracted[3::4]\n",
    "\n",
    "\n",
    "x = np.asmatrix([data1,data2,data3,data4])\n",
    "CovMat = x@x.conj().transpose()\n",
    "DoAsMUSIC, psindB = music(CovMat,L,N,array,Angles)\n",
    "\n",
    "\n",
    "plt.subplot(223)\n",
    "plt.plot(Angles,psindB)\n",
    "plt.plot(Angles[DoAsMUSIC],psindB[DoAsMUSIC],'x')\n",
    "plt.title('MUSIC')\n",
    "\n",
    "\n",
    "print('MUSIC DoAs:',np.sort(Angles[DoAsMUSIC]),'\\n')\n",
    "\n",
    "\n",
    "plt.show()"
   ]
  },
  {
   "cell_type": "code",
   "execution_count": null,
   "metadata": {},
   "outputs": [],
   "source": []
  }
 ],
 "metadata": {
  "kernelspec": {
   "display_name": "Python 3",
   "language": "python",
   "name": "python3"
  },
  "language_info": {
   "codemirror_mode": {
    "name": "ipython",
    "version": 3
   },
   "file_extension": ".py",
   "mimetype": "text/x-python",
   "name": "python",
   "nbconvert_exporter": "python",
   "pygments_lexer": "ipython3",
   "version": "3.6.8"
  }
 },
 "nbformat": 4,
 "nbformat_minor": 2
}
