{
 "cells": [
  {
   "cell_type": "code",
   "execution_count": null,
   "metadata": {},
   "outputs": [],
   "source": [
    "from scipy import signal\n",
    "from scipy import misc\n",
    "import numpy as np\n",
    "face = misc.face(gray=True) - misc.face(gray=True).mean()\n",
    "template = np.copy(face[300:365, 670:750])  # right eye\n",
    "template -= template.mean()\n",
    "face = face + np.random.randn(*face.shape) * 50  # add noise\n",
    "corr = signal.correlate2d(face, template, boundary='symm', mode='same')\n",
    "y, x = np.unravel_index(np.argmax(corr), corr.shape)  # find the match"
   ]
  },
  {
   "cell_type": "code",
   "execution_count": null,
   "metadata": {},
   "outputs": [],
   "source": [
    "import matplotlib.pyplot as plt\n",
    "%matplotlib inline\n",
    "fig, (ax_orig, ax_template, ax_corr) = plt.subplots(3, 1,figsize=(6, 15))\n",
    "ax_orig.imshow(face, cmap='gray')\n",
    "ax_orig.set_title('Original')\n",
    "ax_orig.set_axis_off()\n",
    "ax_template.imshow(template, cmap='gray')\n",
    "ax_template.set_title('Template')\n",
    "ax_template.set_axis_off()\n",
    "ax_corr.imshow(corr, cmap='gray')\n",
    "ax_corr.set_title('Cross-correlation')\n",
    "ax_corr.set_axis_off()\n",
    "ax_orig.plot(x, y, 'ro')\n",
    "fig.show()"
   ]
  },
  {
   "cell_type": "code",
   "execution_count": null,
   "metadata": {},
   "outputs": [],
   "source": [
    "np.correlate([1, 2, 3], [0, 1, 0.5])"
   ]
  },
  {
   "cell_type": "code",
   "execution_count": 1,
   "metadata": {},
   "outputs": [
    {
     "data": {
      "text/plain": [
       "<matplotlib.lines.Line2D at 0x23893424e80>"
      ]
     },
     "execution_count": 1,
     "metadata": {},
     "output_type": "execute_result"
    }
   ],
   "source": [
    "import numpy as np\n",
    "import matplotlib.pyplot as plt\n",
    "\n",
    "x = np.arange(0, 5, 0.1);\n",
    "y = np.sin(x)                     #sine wave\n",
    "z = np.cos(x)                     #cosine wave\n",
    "plt.plot(x, y)\n",
    "plt.plot(x, z)\n",
    "\n",
    "fig = plt.figure()\n",
    "ax1 = fig.add_subplot(211)\n",
    "ax1.xcorr(z, y, usevlines=True, maxlags=None, normed=True, lw=2)     #cross correlation between sine & cosine wave\n",
    "ax1.grid(True)\n",
    "ax1.axhline(0, color='black', lw=2)\n",
    "\n",
    "ax2 = fig.add_subplot(212, sharex=ax1)\n",
    "ax2.acorr(x, usevlines=True, normed=True, maxlags=None, lw=2)      #auto correlation of discrete function\n",
    "ax2.grid(True)\n",
    "ax2.axhline(0, color='black', lw=2)\n",
    "\n",
    "ax3 = fig.add_subplot(221, sharex=ax1)\n",
    "ax3.acorr(y, usevlines=True, normed=True, maxlags=None, lw=2)     #auto correlation of sine wave\n",
    "ax3.grid(True)\n",
    "ax3.axhline(0, color='black', lw=2)\n"
   ]
  },
  {
   "cell_type": "code",
   "execution_count": 2,
   "metadata": {},
   "outputs": [
    {
     "name": "stdout",
     "output_type": "stream",
     "text": [
      "[ 1.76405235  0.40015721  0.97873798  2.2408932   1.86755799 -0.97727788\n",
      "  0.95008842 -0.15135721 -0.10321885  0.4105985   0.14404357  1.45427351\n",
      "  0.76103773  0.12167502  0.44386323  0.33367433  1.49407907 -0.20515826\n",
      "  0.3130677  -0.85409574 -2.55298982  0.6536186   0.8644362  -0.74216502\n",
      "  2.26975462 -1.45436567  0.04575852 -0.18718385  1.53277921  1.46935877\n",
      "  0.15494743  0.37816252 -0.88778575 -1.98079647 -0.34791215  0.15634897\n",
      "  1.23029068  1.20237985 -0.38732682 -0.30230275 -1.04855297 -1.42001794\n",
      " -1.70627019  1.9507754  -0.50965218 -0.4380743  -1.25279536  0.77749036\n",
      " -1.61389785 -0.21274028 -0.89546656  0.3869025  -0.51080514 -1.18063218\n",
      " -0.02818223  0.42833187  0.06651722  0.3024719  -0.63432209 -0.36274117\n",
      " -0.67246045 -0.35955316 -0.81314628 -1.7262826   0.17742614 -0.40178094\n",
      " -1.63019835  0.46278226 -0.90729836  0.0519454   0.72909056  0.12898291\n",
      "  1.13940068 -1.23482582  0.40234164 -0.68481009 -0.87079715 -0.57884966\n",
      " -0.31155253  0.05616534 -1.16514984  0.90082649  0.46566244 -1.53624369\n",
      "  1.48825219  1.89588918  1.17877957 -0.17992484 -1.07075262  1.05445173\n",
      " -0.40317695  1.22244507  0.20827498  0.97663904  0.3563664   0.70657317\n",
      "  0.01050002  1.78587049  0.12691209  0.40198936]\n",
      "[ 1.8831507  -1.34775906 -1.270485    0.96939671 -1.17312341  1.94362119\n",
      " -0.41361898 -0.74745481  1.92294203  1.48051479  1.86755896  0.90604466\n",
      " -0.86122569  1.91006495 -0.26800337  0.8024564   0.94725197 -0.15501009\n",
      "  0.61407937  0.92220667  0.37642553 -1.09940079  0.29823817  1.3263859\n",
      " -0.69456786 -0.14963454 -0.43515355  1.84926373  0.67229476  0.40746184\n",
      " -0.76991607  0.53924919 -0.67433266  0.03183056 -0.63584608  0.67643329\n",
      "  0.57659082 -0.20829876  0.39600671 -1.09306151 -1.49125759  0.4393917\n",
      "  0.1666735   0.63503144  2.38314477  0.94447949 -0.91282223  1.11701629\n",
      " -1.31590741 -0.4615846  -0.06824161  1.71334272 -0.74475482 -0.82643854\n",
      " -0.09845252 -0.66347829  1.12663592 -1.07993151 -1.14746865 -0.43782004\n",
      " -0.49803245  1.92953205  0.94942081  0.08755124 -1.22543552  0.84436298\n",
      " -1.00021535 -1.5447711   1.18802979  0.31694261  0.92085882  0.31872765\n",
      "  0.85683061 -0.65102559 -1.03424284  0.68159452 -0.80340966 -0.68954978\n",
      " -0.4555325   0.01747916 -0.35399391 -1.37495129 -0.6436184  -2.22340315\n",
      "  0.62523145 -1.60205766 -1.10438334  0.05216508 -0.739563    1.5430146\n",
      " -1.29285691  0.26705087 -0.03928282 -1.1680935   0.52327666 -0.17154633\n",
      "  0.77179055  0.82350415  2.16323595  1.33652795]\n"
     ]
    },
    {
     "data": {
      "image/png": "[encoded data removed]",
      "text/plain": [
       "<Figure size 432x288 with 2 Axes>"
      ]
     },
     "metadata": {
      "needs_background": "light"
     },
     "output_type": "display_data"
    }
   ],
   "source": [
    "import matplotlib.pyplot as plt\n",
    "import numpy as np\n",
    "\n",
    "\n",
    "np.random.seed(0)                    #Initialize the random number generator.\n",
    "\n",
    "x, y = np.random.randn(2, 100)                \n",
    "\n",
    "print(x)\n",
    "print(y)\n",
    "\n",
    "fig = plt.figure()\n",
    "ax1 = fig.add_subplot(211)\n",
    "ax1.xcorr(x, y, usevlines=True, maxlags=50, normed=True, lw=2)   #cross correlation between random data\n",
    "ax1.grid(True)\n",
    "ax1.axhline(0, color='black', lw=2)\n",
    "\n",
    "ax2 = fig.add_subplot(212, sharex=ax1)\n",
    "ax2.acorr(x, usevlines=True, normed=True, maxlags=50, lw=2)      #auto correlation of random x function\n",
    "ax2.grid(True)\n",
    "ax2.axhline(0, color='black', lw=2)\n",
    "\n",
    "plt.show()"
   ]
  },
  {
   "cell_type": "code",
   "execution_count": null,
   "metadata": {},
   "outputs": [],
   "source": [
    "z[0:5]"
   ]
  },
  {
   "cell_type": "code",
   "execution_count": 3,
   "metadata": {
    "scrolled": true
   },
   "outputs": [
    {
     "ename": "FileNotFoundError",
     "evalue": "[Errno 2] No such file or directory: './data1.wav'",
     "output_type": "error",
     "traceback": [
      "\u001b[1;31m---------------------------------------------------------------------------\u001b[0m",
      "\u001b[1;31mFileNotFoundError\u001b[0m                         Traceback (most recent call last)",
      "\u001b[1;32m<ipython-input-3-9be80b5a16c7>\u001b[0m in \u001b[0;36m<module>\u001b[1;34m\u001b[0m\n\u001b[0;32m      5\u001b[0m \u001b[1;33m\u001b[0m\u001b[0m\n\u001b[0;32m      6\u001b[0m \u001b[0mx\u001b[0m \u001b[1;33m=\u001b[0m \u001b[0mnp\u001b[0m\u001b[1;33m.\u001b[0m\u001b[0marange\u001b[0m\u001b[1;33m(\u001b[0m\u001b[1;36m0\u001b[0m\u001b[1;33m,\u001b[0m \u001b[1;36m23552\u001b[0m\u001b[1;33m,\u001b[0m \u001b[1;36m1\u001b[0m\u001b[1;33m)\u001b[0m\u001b[1;33m;\u001b[0m\u001b[1;33m\u001b[0m\u001b[1;33m\u001b[0m\u001b[0m\n\u001b[1;32m----> 7\u001b[1;33m \u001b[0mfs1\u001b[0m\u001b[1;33m,\u001b[0m \u001b[0mdata1\u001b[0m \u001b[1;33m=\u001b[0m \u001b[0mwavfile\u001b[0m\u001b[1;33m.\u001b[0m\u001b[0mread\u001b[0m\u001b[1;33m(\u001b[0m\u001b[1;34m'./data1.wav'\u001b[0m\u001b[1;33m)\u001b[0m       \u001b[1;31m#input sound data\u001b[0m\u001b[1;33m\u001b[0m\u001b[1;33m\u001b[0m\u001b[0m\n\u001b[0m\u001b[0;32m      8\u001b[0m \u001b[0mfs2\u001b[0m\u001b[1;33m,\u001b[0m \u001b[0mdata2\u001b[0m \u001b[1;33m=\u001b[0m \u001b[0mwavfile\u001b[0m\u001b[1;33m.\u001b[0m\u001b[0mread\u001b[0m\u001b[1;33m(\u001b[0m\u001b[1;34m'./data2.wav'\u001b[0m\u001b[1;33m)\u001b[0m\u001b[1;33m\u001b[0m\u001b[1;33m\u001b[0m\u001b[0m\n\u001b[0;32m      9\u001b[0m \u001b[1;33m\u001b[0m\u001b[0m\n",
      "\u001b[1;32m~\\Anaconda3\\lib\\site-packages\\scipy\\io\\wavfile.py\u001b[0m in \u001b[0;36mread\u001b[1;34m(filename, mmap)\u001b[0m\n\u001b[0;32m    231\u001b[0m         \u001b[0mmmap\u001b[0m \u001b[1;33m=\u001b[0m \u001b[1;32mFalse\u001b[0m\u001b[1;33m\u001b[0m\u001b[1;33m\u001b[0m\u001b[0m\n\u001b[0;32m    232\u001b[0m     \u001b[1;32melse\u001b[0m\u001b[1;33m:\u001b[0m\u001b[1;33m\u001b[0m\u001b[1;33m\u001b[0m\u001b[0m\n\u001b[1;32m--> 233\u001b[1;33m         \u001b[0mfid\u001b[0m \u001b[1;33m=\u001b[0m \u001b[0mopen\u001b[0m\u001b[1;33m(\u001b[0m\u001b[0mfilename\u001b[0m\u001b[1;33m,\u001b[0m \u001b[1;34m'rb'\u001b[0m\u001b[1;33m)\u001b[0m\u001b[1;33m\u001b[0m\u001b[1;33m\u001b[0m\u001b[0m\n\u001b[0m\u001b[0;32m    234\u001b[0m \u001b[1;33m\u001b[0m\u001b[0m\n\u001b[0;32m    235\u001b[0m     \u001b[1;32mtry\u001b[0m\u001b[1;33m:\u001b[0m\u001b[1;33m\u001b[0m\u001b[1;33m\u001b[0m\u001b[0m\n",
      "\u001b[1;31mFileNotFoundError\u001b[0m: [Errno 2] No such file or directory: './data1.wav'"
     ]
    }
   ],
   "source": [
    "import numpy as np\n",
    "import matplotlib.pyplot as plt\n",
    "from scipy.io import wavfile\n",
    "%matplotlib inline\n",
    "\n",
    "x = np.arange(0, 23552, 1);\n",
    "fs1, data1 = wavfile.read('./data1.wav')       #input sound data\n",
    "fs2, data2 = wavfile.read('./data2.wav')\n",
    "\n",
    "data1_extracted = np.take(data1, x)             #extracting sample from original data\n",
    "data2_extracted = np.take(data2, x)\n",
    "#\n",
    "#fig = plt.figure()\n",
    "#ax1 = fig.add_subplot(211)\n",
    "#ax1.xcorr(data1_extracted, data2_extracted, usevlines=True, maxlags=50, normed=True, lw=2)   #cross correlation between random data\n",
    "#ax1.grid(True)\n",
    "#ax1.axhline(0, color='black', lw=2)\n",
    "\n",
    "plt.figure(1, figsize=(30,10))\n",
    "plt.subplot(121)\n",
    "plt.plot(x, data1_extracted)  \n",
    "plt.plot(x, data2_extracted)  \n",
    "z = np.correlate(data1_extracted, data2_extracted, 'same')\n",
    "plt.subplot(122)\n",
    "plt.plot(x,z)\n",
    "#print(z)\n",
    "#print(len(z))\n",
    "#plt.show()\n",
    "#print(data_extracted)\n",
    "#print(len(data_extracted))\n",
    "#print(x)\n"
   ]
  },
  {
   "cell_type": "code",
   "execution_count": null,
   "metadata": {},
   "outputs": [],
   "source": [
    "%matplotlib inline\n",
    "import numpy, scipy, matplotlib.pyplot as plt, IPython.display as ipd\n",
    "import librosa, librosa.display\n",
    "#import stanford_mir; stanford_mir.init()"
   ]
  },
  {
   "cell_type": "code",
   "execution_count": null,
   "metadata": {},
   "outputs": [],
   "source": [
    "x, sr = librosa.load('./data1.wav') #Return both the audio array as well as the sample rate\n",
    "ipd.Audio(x, rate=sr)\n"
   ]
  },
  {
   "cell_type": "code",
   "execution_count": null,
   "metadata": {},
   "outputs": [],
   "source": [
    "y, sr = librosa.load('./data2.wav') #Return both the audio array as well as the sample rate\n",
    "ipd.Audio(y, rate=sr)"
   ]
  },
  {
   "cell_type": "code",
   "execution_count": null,
   "metadata": {},
   "outputs": [],
   "source": [
    "plt.figure(figsize=(14, 5))\n",
    "librosa.display.waveplot(x, sr)"
   ]
  },
  {
   "cell_type": "code",
   "execution_count": null,
   "metadata": {},
   "outputs": [],
   "source": [
    "# Because the autocorrelation produces a symmetric signal, we only care about the \"right half\".\n",
    "r = numpy.correlate(x, x, mode='full')[len(x)-1:]\n",
    "print(x.shape, r.shape)"
   ]
  },
  {
   "cell_type": "code",
   "execution_count": null,
   "metadata": {},
   "outputs": [],
   "source": [
    "plt.figure(figsize=(14, 5))\n",
    "plt.plot(r[:10000])\n",
    "plt.xlabel('Lag (samples)')\n",
    "plt.xlim(0, 10000)"
   ]
  },
  {
   "cell_type": "code",
   "execution_count": null,
   "metadata": {},
   "outputs": [],
   "source": [
    "r = librosa.autocorrelate(x, max_size=10000)\n",
    "print(r.shape)"
   ]
  },
  {
   "cell_type": "code",
   "execution_count": 8,
   "metadata": {
    "scrolled": true
   },
   "outputs": [
    {
     "ename": "NameError",
     "evalue": "name 'r' is not defined",
     "output_type": "error",
     "traceback": [
      "\u001b[1;31m---------------------------------------------------------------------------\u001b[0m",
      "\u001b[1;31mNameError\u001b[0m                                 Traceback (most recent call last)",
      "\u001b[1;32m<ipython-input-8-621b3159710a>\u001b[0m in \u001b[0;36m<module>\u001b[1;34m\u001b[0m\n\u001b[0;32m      1\u001b[0m \u001b[0mplt\u001b[0m\u001b[1;33m.\u001b[0m\u001b[0mfigure\u001b[0m\u001b[1;33m(\u001b[0m\u001b[0mfigsize\u001b[0m\u001b[1;33m=\u001b[0m\u001b[1;33m(\u001b[0m\u001b[1;36m14\u001b[0m\u001b[1;33m,\u001b[0m \u001b[1;36m5\u001b[0m\u001b[1;33m)\u001b[0m\u001b[1;33m)\u001b[0m\u001b[1;33m\u001b[0m\u001b[1;33m\u001b[0m\u001b[0m\n\u001b[1;32m----> 2\u001b[1;33m \u001b[0mplt\u001b[0m\u001b[1;33m.\u001b[0m\u001b[0mplot\u001b[0m\u001b[1;33m(\u001b[0m\u001b[0mr\u001b[0m\u001b[1;33m)\u001b[0m\u001b[1;33m\u001b[0m\u001b[1;33m\u001b[0m\u001b[0m\n\u001b[0m\u001b[0;32m      3\u001b[0m \u001b[0mplt\u001b[0m\u001b[1;33m.\u001b[0m\u001b[0mxlabel\u001b[0m\u001b[1;33m(\u001b[0m\u001b[1;34m'Lag (samples)'\u001b[0m\u001b[1;33m)\u001b[0m\u001b[1;33m\u001b[0m\u001b[1;33m\u001b[0m\u001b[0m\n\u001b[0;32m      4\u001b[0m \u001b[0mplt\u001b[0m\u001b[1;33m.\u001b[0m\u001b[0mxlim\u001b[0m\u001b[1;33m(\u001b[0m\u001b[1;36m0\u001b[0m\u001b[1;33m,\u001b[0m \u001b[1;36m10000\u001b[0m\u001b[1;33m)\u001b[0m\u001b[1;33m\u001b[0m\u001b[1;33m\u001b[0m\u001b[0m\n",
      "\u001b[1;31mNameError\u001b[0m: name 'r' is not defined"
     ]
    },
    {
     "data": {
      "text/plain": [
       "<Figure size 1008x360 with 0 Axes>"
      ]
     },
     "metadata": {},
     "output_type": "display_data"
    }
   ],
   "source": [
    "plt.figure(figsize=(14, 5))\n",
    "plt.plot(r)\n",
    "plt.xlabel('Lag (samples)')\n",
    "plt.xlim(0, 10000)"
   ]
  },
  {
   "cell_type": "code",
   "execution_count": 4,
   "metadata": {},
   "outputs": [
    {
     "name": "stdout",
     "output_type": "stream",
     "text": [
      "102400\n",
      "44100\n",
      "[395 446 420 366 333 334 351 351 327 292 273 277 291 298 293 282 278 283\n",
      " 290 290 279 261 243 226 205 180 152 126 105  89  76  65  58  56  59  65\n",
      "  69  71  71  72  71  70  64  54  39  22   7  -6 -14 -20 -25 -31 -39 -47\n",
      " -54 -56 -56 -53 -47 -43 -39 -38 -36 -35 -32 -23  -9   7  22  32  31  24\n",
      "  16   9   6   2  -3 -10 -18 -19 -10   6  24  41  53  63  70  74  75  71\n",
      "  69  67  69  72  73  74  75  80  87  96 100 100  96  92  90  91  96 101\n",
      " 106 113 118 124 129 133 138 142 143 141 135 128 120 112 104  97  89  82\n",
      "  80  82  88  97 102 103 100  93  89  85  83  80  75  70  67  67  71  76\n",
      "  82  83  82  79  74  69  62  55  48  43  42  45  49  56  62  67  69  74\n",
      "  78  84  88  85  76  61  44  29  20  14  12  14  20  25  33  40  46  52\n",
      "  56  62  68  72  74  75  73  70  64  62  63  68  74  79  81  81  81  82\n",
      "  87  95 102 111 122 129 132 127 116 101  88  77  71  69  73  85 104 130\n",
      " 157 180 195 201 200 195 186 175 162 148 133 121 108  98  92  90  96 106\n",
      " 118 129 137 143 149 153 156 158 157 152 146 140 135 133 133 134 134 131\n",
      " 127 128 130 138 147 156 164 172 182 193 204 212 216 218 222 231 251 276\n",
      " 303 324 336 338 332 323 313 306 301 295 289 284 287 298 318 345 373 398\n",
      " 421 444 467 490 509 518 516 502 484 464 448 435 423 415 412 413 418 423\n",
      " 429 435 441 450 461 474 487 504 520 535 545 548 543 535 529 522 514 503\n",
      " 489 473 458 447 439 433 431 433 439 449 458 466 473 479 485 489 490 489\n",
      " 485 483 481 474 460 437 407 374 342 311 284 262 249 247 254 265 272 277\n",
      " 277 276 278 280 282 280 274 265 252 234 213 189 165 145 131 123 120 119\n",
      " 121 123 128 136 148 162 178 196 211 222 226 224 214 196 175 156 142 136\n",
      " 135 135 133 129 127 128 132 135 137 141 149 160 174 186 196 203 211 222\n",
      " 231 233 228 217 206 199 199 199 196 186 175 166 165 171 181 191 201 211\n",
      " 221 229 234 239 241 242 244 242 238 233 227 219 212 204 194 188 184 187\n",
      " 190 189 184 173 165 161 162 167 171 174 177 179 181 178 169 155 138 123\n",
      " 107  92  76  60  47  38  33  31  30  31  34  40  46  54  60  64  64  62\n",
      "  57  51  45  44  44  42  32  20   7  -4  -9 -11 -13 -13]\n",
      "[ 388  443  427  378  347  352  372  383  370  346  330  327  330  322\n",
      "  301  277  260  255  253  247  234  222  216  215  215  207  191  170\n",
      "  146  124  107   94   87   84   80   76   71   65   62   60   59   56\n",
      "   50   41   32   24   18   11    0  -10  -22  -35  -48  -59  -70  -83\n",
      "  -95 -105 -109 -104  -94  -77  -59  -45  -37  -31  -30  -25  -20  -15\n",
      "  -10  -10  -15  -21  -27  -29  -27  -21  -14  -10   -6    0    8   18\n",
      "   26   33   37   39   41   44   44   42   39   41   48   55   62   63\n",
      "   60   61   63   70   77   79   76   70   65   65   68   72   75   78\n",
      "   87   98  107  112  111  109  111  115  120  123  122  119  115  113\n",
      "  112  109   99   88   81   79   83   89   95   99  102  107  113  117\n",
      "  120  119  115  112  110  111  114  119  119  116  111  102   94   86\n",
      "   79   73   69   65   65   66   71   78   88   97  105  109  108  103\n",
      "   94   83   73   66   62   60   60   61   64   66   72   76   78   79\n",
      "   78   77   78   84   93  103  111  122  133  148  160  169  169  163\n",
      "  154  148  143  139  135  133  135  143  155  164  168  163  154  146\n",
      "  141  137  134  133  137  150  173  197  217  227  229  224  212  194\n",
      "  169  141  111   87   70   65   67   76   92  112  132  148  160  168\n",
      "  173  174  173  169  162  154  151  151  155  154  150  145  139  137\n",
      "  137  135  136  138  145  158  177  198  217  232  244  255  264  272\n",
      "  280  291  302  313  324  335  346  360  375  385  389  385  377  371\n",
      "  372  378  389  402  417  436  459  485  514  541  567  589  605  612\n",
      "  610  598  583  571  563  559  557  558  563  574  590  607  621  630\n",
      "  636  643  648  655  662  670  677  686  693  697  694  689  683  682\n",
      "  685  686  686  681  676  667  661  656  652  648  646  643  645  648\n",
      "  653  662  672  680  686  689  688  684  678  670  657  637  611  580\n",
      "  553  532  522  521  525  530  535  538  540  539  533  518  495  471\n",
      "  451  439  433  429  422  414  406  402  401  399  394  386  377  370\n",
      "  368  367  361  352  342  332  330  334  343  355  367  377  383  389\n",
      "  388  387  383  378  371  361  350  340  332  327  327  333  344  363\n",
      "  385  409  431  447  460  467  470  466  456  440  424  414  410  417\n",
      "  425  434  443  451  460  470  475  475  471  468  468  468  466  464\n",
      "  462  463  469  475  478  480  481  485  492  498  498  488  474  459\n",
      "  450  444  441  439  439  441  443  447  444  440  431  424  422  419\n",
      "  414  407  398  387  376  365  353  340  331  326  328  332  335  334\n",
      "  331  324  318  312  306  299  292  288  288  291  296  296  289  275\n",
      "  258  244  238  240  247  250  251  251  252  257]\n"
     ]
    },
    {
     "data": {
      "image/png": "[encoded data removed]",
      "text/plain": [
       "<Figure size 432x288 with 1 Axes>"
      ]
     },
     "metadata": {
      "needs_background": "light"
     },
     "output_type": "display_data"
    },
    {
     "data": {
      "text/plain": [
       "<Figure size 1440x1440 with 0 Axes>"
      ]
     },
     "metadata": {},
     "output_type": "display_data"
    }
   ],
   "source": [
    "import numpy as np\n",
    "import matplotlib.pyplot as plt\n",
    "from scipy.io import wavfile\n",
    "%matplotlib inline\n",
    "\n",
    "x = np.arange(0, 500, 1)\n",
    "fs1, data1 = wavfile.read('./ch1.wav')       #input sound data\n",
    "fs2, data2 = wavfile.read('./ch4.wav')\n",
    "\n",
    "print(len(data1))\n",
    "print(fs2)\n",
    "\n",
    "data1_extracted = np.take(data1, x)             #extracting sample from original data\n",
    "data2_extracted = np.take(data2, x)\n",
    "\n",
    "y = np.array(data1_extracted, np.dtype(object))   #must typecast to object for new version of numpy\n",
    "z = np.array(data2_extracted, np.dtype(object))\n",
    "\n",
    "print((data1_extracted))\n",
    "print((data2_extracted))\n",
    "\n",
    "fig = plt.figure()\n",
    "plt.figure(figsize=(20,20))\n",
    "ax1 = fig.add_subplot(211)\n",
    "ax1.xcorr(y, z, usevlines=True, maxlags=None, normed=True, lw=2)\n",
    "ax1.grid(True)\n",
    "ax1.axhline(0, color='black', lw=2)\n",
    "plt.show()"
   ]
  },
  {
   "cell_type": "code",
   "execution_count": 5,
   "metadata": {},
   "outputs": [
    {
     "data": {
      "image/png": "[encoded data removed]",
      "text/plain": [
       "<Figure size 432x288 with 1 Axes>"
      ]
     },
     "metadata": {
      "needs_background": "light"
     },
     "output_type": "display_data"
    },
    {
     "data": {
      "text/plain": [
       "<Figure size 1440x1440 with 0 Axes>"
      ]
     },
     "metadata": {},
     "output_type": "display_data"
    }
   ],
   "source": [
    "import numpy as np\n",
    "import matplotlib.pyplot as plt\n",
    "from scipy.io import wavfile\n",
    "%matplotlib inline\n",
    "\n",
    "x = np.arange(0,600, 1)\n",
    "fs1, data1 = wavfile.read('./ch1.wav')       #input sound data\n",
    "fs2, data2 = wavfile.read('./ch4.wav')\n",
    "\n",
    "#print(x)\n",
    "#print(fs2)\n",
    "\n",
    "data1_extracted = np.take(data1, x)             #extracting sample from original data\n",
    "data2_extracted = np.take(data2, x)\n",
    "\n",
    "y = np.array(data1_extracted, np.dtype(object))   #must typecast to object for new version of numpy\n",
    "z = np.array(data2_extracted, np.dtype(object))\n",
    "\n",
    "#print((data1_extracted))\n",
    "#print((data2_extracted))\n",
    "\n",
    "fig = plt.figure()\n",
    "plt.figure(figsize=(20,20))\n",
    "ax1 = fig.add_subplot(211)\n",
    "aa=ax1.xcorr(y, z, usevlines=True, maxlags=None, normed=True, lw=2)\n",
    "ax1.grid(True)\n",
    "ax1.axhline(0, color='black', lw=2)\n",
    "plt.show()"
   ]
  },
  {
   "cell_type": "code",
   "execution_count": 6,
   "metadata": {},
   "outputs": [],
   "source": [
    "bb=aa[0].tolist()\n",
    "cc=aa[1].tolist()"
   ]
  },
  {
   "cell_type": "code",
   "execution_count": 7,
   "metadata": {},
   "outputs": [
    {
     "data": {
      "text/plain": [
       "0.9269524901988324"
      ]
     },
     "execution_count": 7,
     "metadata": {},
     "output_type": "execute_result"
    }
   ],
   "source": [
    "max(cc)"
   ]
  },
  {
   "cell_type": "code",
   "execution_count": null,
   "metadata": {},
   "outputs": [],
   "source": [
    "d=cc.index(max(cc))\n",
    "d"
   ]
  },
  {
   "cell_type": "code",
   "execution_count": null,
   "metadata": {},
   "outputs": [],
   "source": [
    "bb[d]"
   ]
  },
  {
   "cell_type": "code",
   "execution_count": null,
   "metadata": {},
   "outputs": [],
   "source": []
  },
  {
   "cell_type": "code",
   "execution_count": null,
   "metadata": {},
   "outputs": [],
   "source": []
  }
 ],
 "metadata": {
  "kernelspec": {
   "display_name": "Python 3",
   "language": "python",
   "name": "python3"
  },
  "language_info": {
   "codemirror_mode": {
    "name": "ipython",
    "version": 3
   },
   "file_extension": ".py",
   "mimetype": "text/x-python",
   "name": "python",
   "nbconvert_exporter": "python",
   "pygments_lexer": "ipython3",
   "version": "3.7.3"
  }
 },
 "nbformat": 4,
 "nbformat_minor": 2
}
