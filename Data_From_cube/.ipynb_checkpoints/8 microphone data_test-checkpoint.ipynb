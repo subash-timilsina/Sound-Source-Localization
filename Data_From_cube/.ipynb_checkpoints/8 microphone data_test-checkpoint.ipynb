{
 "cells": [
  {
   "cell_type": "code",
   "execution_count": 1,
   "metadata": {},
   "outputs": [
    {
     "name": "stdout",
     "output_type": "stream",
     "text": [
      "input device id 5 -- HDA Intel PCH: ALC3234 Analog (hw:1,0)\n",
      "input device id 6 -- USB Camera-B4.09.24.1: Audio (hw:2,0)\n",
      "input device id 7 -- USB Camera-B4.09.24.1: Audio (hw:3,0)\n",
      "input device id 8 -- USB PnP Sound Device: Audio (hw:4,0)\n"
     ]
    }
   ],
   "source": [
    "import pyaudio\n",
    "import matplotlib.pyplot as plt \n",
    "import numpy as np\n",
    "import wave\n",
    "\n",
    "maxValue = 2**16\n",
    "bars = 35\n",
    "p=pyaudio.PyAudio()\n",
    "\n",
    "info = p.get_host_api_info_by_index(0)\n",
    "numdevices = info.get('deviceCount')\n",
    "for i in range(0, numdevices):\n",
    "    if(p.get_device_info_by_host_api_device_index(0,i).get('maxInputChannels'))>0:\n",
    "        print(\"input device id {} -- {}\".format(i,p.get_device_info_by_host_api_device_index(0,i).get('name')));\n",
    "\n",
    "device_index1 = 6\n",
    "device_index2 = 7\n",
    "FORMAT = pyaudio.paInt16\n",
    "INPUT_CHANNELS = 4\n",
    "RATE = 16000\n",
    "CHUNKS = 1024"
   ]
  },
  {
   "cell_type": "code",
   "execution_count": 2,
   "metadata": {},
   "outputs": [],
   "source": [
    "stream1=p.open(input_device_index = device_index1,format=FORMAT,channels=INPUT_CHANNELS,rate=RATE,\n",
    "              input=True, frames_per_buffer=CHUNKS)\n",
    "\n",
    "stream2=p.open(input_device_index = device_index2,format=FORMAT,channels=INPUT_CHANNELS,rate=RATE,\n",
    "              input=True, frames_per_buffer=CHUNKS)\n",
    "\n",
    "data1 = []\n",
    "data2 = []\n",
    "data3 = []\n",
    "data4 = []\n",
    "datamic = []\n",
    "\n",
    "i = 100 * CHUNKS\n",
    "while i>0:\n",
    "    whole_data  = stream1.read(1) #np.fromstring(stream.read(CHUNKS),dtype=np.int16)\n",
    "    \n",
    "    datamic.append(whole_data)\n",
    "    \n",
    "    whole_data = stream2.read(1) \n",
    "\n",
    "    datamic.append(whole_data)\n",
    "       \n",
    "    i=i-1\n",
    "\n",
    "datamic = b''.join(datamic)\n",
    " \n",
    "waveFile = wave.open(\"8D.wav\",'wb')\n",
    "waveFile.setnchannels(8)\n",
    "waveFile.setsampwidth(p.get_sample_size(FORMAT))\n",
    "waveFile.setframerate(RATE)\n",
    "waveFile.writeframes(datamic)\n",
    "waveFile.close()\n"
   ]
  },
  {
   "cell_type": "code",
   "execution_count": 3,
   "metadata": {},
   "outputs": [],
   "source": [
    "datamic = np.frombuffer(datamic,dtype=np.int16)\n",
    "\n",
    "data1 = datamic[0::8]\n",
    "data2 = datamic[1::8]\n",
    "data3 = datamic[2::8]\n",
    "data4 = datamic[3::8]\n",
    "data5 = datamic[4::8]\n",
    "data6 = datamic[5::8]\n",
    "data7 = datamic[6::8]\n",
    "data8 = datamic[7::8]\n",
    "\n",
    " \n",
    "OUTPUT_CHANNELS = 1\n",
    "\n",
    "def save_in_wav_file(filename,data_info):\n",
    "    waveFile = wave.open(filename, 'wb')\n",
    "    waveFile.setnchannels(OUTPUT_CHANNELS)\n",
    "    waveFile.setsampwidth(p.get_sample_size(FORMAT))\n",
    "    waveFile.setframerate(RATE)\n",
    "    waveFile.writeframes(data_info.tostring())\n",
    "    waveFile.close()\n",
    "    \n",
    "save_in_wav_file('ch1.wav', data1)\n",
    "save_in_wav_file('ch2.wav', data2)\n",
    "save_in_wav_file('ch3.wav', data3)\n",
    "save_in_wav_file('ch4.wav', data4)\n",
    "save_in_wav_file('ch5.wav', data5)\n",
    "save_in_wav_file('ch6.wav', data6)\n",
    "save_in_wav_file('ch7.wav', data7)\n",
    "save_in_wav_file('ch8.wav', data8)"
   ]
  },
  {
   "cell_type": "code",
   "execution_count": null,
   "metadata": {},
   "outputs": [],
   "source": []
  }
 ],
 "metadata": {
  "kernelspec": {
   "display_name": "Python 3",
   "language": "python",
   "name": "python3"
  },
  "language_info": {
   "codemirror_mode": {
    "name": "ipython",
    "version": 3
   },
   "file_extension": ".py",
   "mimetype": "text/x-python",
   "name": "python",
   "nbconvert_exporter": "python",
   "pygments_lexer": "ipython3",
   "version": "3.7.3"
  }
 },
 "nbformat": 4,
 "nbformat_minor": 2
}
